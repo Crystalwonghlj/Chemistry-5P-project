{
 "cells": [
  {
   "cell_type": "code",
   "execution_count": 2,
   "id": "724caa47-4aa4-4651-8eef-91580436542c",
   "metadata": {},
   "outputs": [
    {
     "name": "stderr",
     "output_type": "stream",
     "text": [
      "/home/crystal/miniconda3/envs/openmm/lib/python3.10/site-packages/tqdm/auto.py:21: TqdmWarning: IProgress not found. Please update jupyter and ipywidgets. See https://ipywidgets.readthedocs.io/en/stable/user_install.html\n",
      "  from .autonotebook import tqdm as notebook_tqdm\n"
     ]
    }
   ],
   "source": [
    "import numpy as np\n",
    "import gudhi\n",
    "import mdtraj as md\n",
    "import seaborn as sns\n",
    "import matplotlib as mpl\n",
    "import matplotlib.pyplot as plt\n",
    "from pylab import *\n",
    "from math import pi\n",
    "import MDAnalysis as mda\n",
    "from MDAnalysis.analysis.base import (AnalysisBase,\n",
    "                                      AnalysisFromFunction,\n",
    "                                      analysis_class)\n",
    "import pandas as pd\n",
    "from sklearn.metrics.pairwise import pairwise_kernels\n",
    "from sklearn.cluster import spectral_clustering\n",
    "import random\n",
    "import gudhi.representations"
   ]
  },
  {
   "cell_type": "code",
   "execution_count": null,
   "id": "a2af2da4-12f9-445c-9083-2e6bd9011c8c",
   "metadata": {},
   "outputs": [],
   "source": [
    "traj6 = md.load('ahelix100frame.pdb')\n",
    "traj6 = md.Trajectory.superpose(traj6, traj6[0], frame=0, atom_indices=None, ref_atom_indices=None, parallel=True)"
   ]
  },
  {
   "cell_type": "code",
   "execution_count": 5,
   "id": "bd79c00a-6627-4d41-9544-cbd68967d623",
   "metadata": {},
   "outputs": [],
   "source": [
    "carbon_atoms = traj6.topology.select(\"element == 'C'\")"
   ]
  },
  {
   "cell_type": "code",
   "execution_count": 6,
   "id": "ab681273-3a3f-4bfc-af4e-9228b6499d41",
   "metadata": {},
   "outputs": [],
   "source": [
    "num_frames = traj6.n_frames"
   ]
  },
  {
   "cell_type": "code",
   "execution_count": null,
   "id": "1b8690d9-8318-496a-a933-6cc213e3ce99",
   "metadata": {
    "scrolled": true
   },
   "outputs": [],
   "source": [
    "distance_matrix = np.zeros((num_frames, num_frames))\n",
    "\n",
    "for frame1 in range(num_frames):\n",
    "    persistence_pairs_frame1 = []\n",
    "    carbon_coordinates_frame1 = traj6.xyz[frame1, carbon_atoms, :]\n",
    "    rips_complex_frame1 = gudhi.RipsComplex(points=carbon_coordinates_frame1)\n",
    "    simplex_tree_frame1 = rips_complex_frame1.create_simplex_tree(max_dimension=3)\n",
    "    persistence_frame1 = simplex_tree_frame1.persistence()\n",
    "    persistence_pairs1 = simplex_tree_frame1.persistence_intervals_in_dimension(1)\n",
    "    persistence_diagrams1 = []\n",
    "    persistence_diagrams1.append(persistence_pairs1)\n",
    "    print(f'{frame1}')\n",
    "    for frame2 in range(frame1 + 1, num_frames):\n",
    "        persistence_pairs_frame2 = []\n",
    "        carbon_coordinates_frame2 = traj6.xyz[frame2, carbon_atoms, :]\n",
    "        rips_complex_frame2 = gudhi.RipsComplex(points=carbon_coordinates_frame2)\n",
    "        simplex_tree_frame2 = rips_complex_frame2.create_simplex_tree(max_dimension=3)\n",
    "        persistence_frame2 = simplex_tree_frame2.persistence()\n",
    "        persistence_pairs2 = simplex_tree_frame2.persistence_intervals_in_dimension(1)\n",
    "        persistence_diagrams2 = []\n",
    "        persistence_diagrams2.append(persistence_pairs2)\n",
    "        bottleneck_distance = gudhi.bottleneck_distance(persistence_pairs1, persistence_pairs2)\n",
    "\n",
    "        distance_matrix[frame1, frame2] = bottleneck_distance"
   ]
  },
  {
   "cell_type": "code",
   "execution_count": null,
   "id": "87e46e60-2b65-440f-8395-5e364d6f2ce8",
   "metadata": {},
   "outputs": [],
   "source": [
    "np.save('ahelix100H1.npy',distance_matrix)"
   ]
  },
  {
   "cell_type": "code",
   "execution_count": null,
   "id": "005d9dc5-8e60-4eed-9eba-b12e42cf7e68",
   "metadata": {},
   "outputs": [],
   "source": []
  }
 ],
 "metadata": {
  "kernelspec": {
   "display_name": "Python 3 (ipykernel)",
   "language": "python",
   "name": "python3"
  },
  "language_info": {
   "codemirror_mode": {
    "name": "ipython",
    "version": 3
   },
   "file_extension": ".py",
   "mimetype": "text/x-python",
   "name": "python",
   "nbconvert_exporter": "python",
   "pygments_lexer": "ipython3",
   "version": "3.10.0"
  }
 },
 "nbformat": 4,
 "nbformat_minor": 5
}

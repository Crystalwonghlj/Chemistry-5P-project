{
 "cells": [
  {
   "cell_type": "code",
   "execution_count": 1,
   "id": "724caa47-4aa4-4651-8eef-91580436542c",
   "metadata": {},
   "outputs": [
    {
     "name": "stderr",
     "output_type": "stream",
     "text": [
      "/home/crystal/miniconda3/envs/openmm/lib/python3.10/site-packages/tqdm/auto.py:21: TqdmWarning: IProgress not found. Please update jupyter and ipywidgets. See https://ipywidgets.readthedocs.io/en/stable/user_install.html\n",
      "  from .autonotebook import tqdm as notebook_tqdm\n"
     ]
    }
   ],
   "source": [
    "import numpy as np\n",
    "import gudhi\n",
    "import mdtraj as md\n",
    "import seaborn as sns\n",
    "import matplotlib as mpl\n",
    "import matplotlib.pyplot as plt\n",
    "from pylab import *\n",
    "from math import pi\n",
    "import MDAnalysis as mda\n",
    "from MDAnalysis.analysis.base import (AnalysisBase,\n",
    "                                      AnalysisFromFunction,\n",
    "                                      analysis_class)\n",
    "import pandas as pd\n",
    "from sklearn.metrics.pairwise import pairwise_kernels\n",
    "from sklearn.cluster import spectral_clustering\n",
    "import random"
   ]
  },
  {
   "cell_type": "code",
   "execution_count": 2,
   "id": "b0c097d2-f150-44a8-a6b8-f31335a60cee",
   "metadata": {},
   "outputs": [],
   "source": [
    "traj5 = md.load('normal100frame.pdb')\n",
    "traj5 = md.Trajectory.superpose(traj5, traj5[0], frame=0, atom_indices=None, ref_atom_indices=None, parallel=True)"
   ]
  },
  {
   "cell_type": "code",
   "execution_count": 3,
   "id": "209c2a7d-f6ef-4ac2-96bc-4935a158e9d1",
   "metadata": {},
   "outputs": [],
   "source": [
    "traj6 = md.load('ahelix100frame.pdb')\n",
    "traj6 = md.Trajectory.superpose(traj6, traj6[0], frame=0, atom_indices=None, ref_atom_indices=None, parallel=True)"
   ]
  },
  {
   "cell_type": "code",
   "execution_count": 4,
   "id": "bd79c00a-6627-4d41-9544-cbd68967d623",
   "metadata": {},
   "outputs": [],
   "source": [
    "carbon_atoms = traj5.topology.select(\"element == 'C'\")"
   ]
  },
  {
   "cell_type": "code",
   "execution_count": 5,
   "id": "ab681273-3a3f-4bfc-af4e-9228b6499d41",
   "metadata": {},
   "outputs": [],
   "source": [
    "num_frames = traj5.n_frames"
   ]
  },
  {
   "cell_type": "code",
   "execution_count": null,
   "id": "fc8ca43b-42a6-4b40-a0be-12851f88c754",
   "metadata": {
    "scrolled": true
   },
   "outputs": [],
   "source": [
    "distance_matrix = np.zeros((num_frames, num_frames))\n",
    "\n",
    "for frame1 in range(num_frames):\n",
    "    persistence_pairs_frame1 = []\n",
    "    carbon_coordinates_frame1 = traj5.xyz[frame1, carbon_atoms, :]\n",
    "    rips_complex_frame1 = gudhi.RipsComplex(points=carbon_coordinates_frame1)\n",
    "    simplex_tree_frame1 = rips_complex_frame1.create_simplex_tree(max_dimension=3)\n",
    "    persistence_frame1 = simplex_tree_frame1.persistence()\n",
    "    persistence_pairs1 = simplex_tree_frame1.persistence_intervals_in_dimension(1)\n",
    "    persistence_diagrams1 = []\n",
    "    persistence_diagrams1.append(persistence_pairs1)\n",
    "    print(f'{frame1}')\n",
    "    for frame2 in range(frame1 + 1, num_frames):\n",
    "        persistence_pairs_frame2 = []\n",
    "        carbon_coordinates_frame2 = traj5.xyz[frame2, carbon_atoms, :]\n",
    "        rips_complex_frame2 = gudhi.RipsComplex(points=carbon_coordinates_frame2)\n",
    "        simplex_tree_frame2 = rips_complex_frame2.create_simplex_tree(max_dimension=3)\n",
    "        persistence_frame2 = simplex_tree_frame2.persistence()\n",
    "        persistence_pairs2 = simplex_tree_frame2.persistence_intervals_in_dimension(1)\n",
    "        persistence_diagrams2 = []\n",
    "        persistence_diagrams2.append(persistence_pairs2)\n",
    "        bottleneck_distance = gudhi.bottleneck_distance(persistence_pairs1, persistence_pairs2)\n",
    "\n",
    "        distance_matrix[frame1, frame2] = bottleneck_distance"
   ]
  },
  {
   "cell_type": "code",
   "execution_count": null,
   "id": "db9b7861-ace4-4d59-a7bb-4f60d6d0e0d9",
   "metadata": {},
   "outputs": [],
   "source": [
    "np.save('normal100H1.npy',distance_matrix)"
   ]
  }
 ],
 "metadata": {
  "kernelspec": {
   "display_name": "Python 3 (ipykernel)",
   "language": "python",
   "name": "python3"
  },
  "language_info": {
   "codemirror_mode": {
    "name": "ipython",
    "version": 3
   },
   "file_extension": ".py",
   "mimetype": "text/x-python",
   "name": "python",
   "nbconvert_exporter": "python",
   "pygments_lexer": "ipython3",
   "version": "3.10.0"
  }
 },
 "nbformat": 4,
 "nbformat_minor": 5
}

{
 "cells": [
  {
   "cell_type": "code",
   "execution_count": 1,
   "id": "f1386665-bce4-4740-9f35-a7583986c917",
   "metadata": {},
   "outputs": [],
   "source": [
    "import mdtraj as md"
   ]
  },
  {
   "cell_type": "code",
   "execution_count": 2,
   "id": "54bbddc6-8050-43db-8560-53ca7476c745",
   "metadata": {},
   "outputs": [],
   "source": [
    "from pathlib import Path"
   ]
  },
  {
   "cell_type": "code",
   "execution_count": 3,
   "id": "1637fdfa-5e8b-429c-9778-3f9049c644db",
   "metadata": {},
   "outputs": [
    {
     "name": "stdout",
     "output_type": "stream",
     "text": [
      "/home/crystal/Desktop/L-allo-ile\n"
     ]
    }
   ],
   "source": [
    "!pwd"
   ]
  },
  {
   "cell_type": "code",
   "execution_count": 4,
   "id": "f980a124-9080-44d6-8846-0d9871093cf9",
   "metadata": {
    "scrolled": true
   },
   "outputs": [],
   "source": [
    "traj = md.load_dcd('L_allo_prd.dcd', top='L_allo_clean.pdb')"
   ]
  },
  {
   "cell_type": "code",
   "execution_count": 5,
   "id": "59afedaa-2228-4c07-b46f-49d731d3c74d",
   "metadata": {},
   "outputs": [
    {
     "data": {
      "text/plain": [
       "<mdtraj.Trajectory with 2000000 frames, 41 atoms, 2 residues, and unitcells at 0x7f22883e2950>"
      ]
     },
     "execution_count": 5,
     "metadata": {},
     "output_type": "execute_result"
    }
   ],
   "source": [
    "traj"
   ]
  },
  {
   "cell_type": "code",
   "execution_count": 6,
   "id": "a6380f9f-c7fb-4554-a6b9-15b57a29dc95",
   "metadata": {},
   "outputs": [],
   "source": [
    "traj = md.Trajectory.superpose(traj, traj[0], frame=0, atom_indices=None, ref_atom_indices=None, parallel=True)"
   ]
  },
  {
   "cell_type": "code",
   "execution_count": 7,
   "id": "4051c4ef-c3c4-454a-80e4-3ca2a56e7ba9",
   "metadata": {},
   "outputs": [
    {
     "data": {
      "text/plain": [
       "array([0.        , 0.04252063, 0.04949549, ..., 0.2737564 , 0.26647475,\n",
       "       0.24237768], dtype=float32)"
      ]
     },
     "execution_count": 7,
     "metadata": {},
     "output_type": "execute_result"
    }
   ],
   "source": [
    "md.rmsd(traj, traj[0], frame=0, atom_indices=None, parallel=True, precentered=False)"
   ]
  },
  {
   "cell_type": "code",
   "execution_count": 8,
   "id": "e064ad25-a937-4981-ac11-d1affa9160df",
   "metadata": {},
   "outputs": [
    {
     "data": {
      "text/plain": [
       "array([0.08387183, 0.13413525, 0.13497576, 0.13568191, 0.07279006,\n",
       "       0.04638941, 0.0795862 , 0.04365111, 0.12399055, 0.13104221,\n",
       "       0.18884365, 0.18943836, 0.19055068, 0.14729857, 0.10330804,\n",
       "       0.1837379 , 0.16529453, 0.13538153, 0.18526007, 0.1838196 ,\n",
       "       0.1838558 , 0.05435383, 0.08406099, 0.17308737, 0.08159116,\n",
       "       0.12475886, 0.05008445, 0.12932082, 0.1598959 , 0.21767582,\n",
       "       0.21832743, 0.2173537 , 0.23759948, 0.10142166, 0.18439786,\n",
       "       0.17003568, 0.24030791, 0.1500413 , 0.20002337, 0.20095235,\n",
       "       0.20054734], dtype=float32)"
      ]
     },
     "execution_count": 8,
     "metadata": {},
     "output_type": "execute_result"
    }
   ],
   "source": [
    "md.rmsf(traj, traj[0], frame=0, atom_indices=None, parallel=True, precentered=False)"
   ]
  },
  {
   "cell_type": "code",
   "execution_count": 9,
   "id": "e6215698-8da6-4671-bfc2-22641986e3ed",
   "metadata": {},
   "outputs": [
    {
     "data": {
      "text/plain": [
       "(array([[ 4, 21, 24, 23]]),\n",
       " array([[-1.4152273],\n",
       "        [-1.3409921],\n",
       "        [-1.5236   ],\n",
       "        ...,\n",
       "        [-1.281269 ],\n",
       "        [-1.4981663],\n",
       "        [-1.0591714]], dtype=float32))"
      ]
     },
     "execution_count": 9,
     "metadata": {},
     "output_type": "execute_result"
    }
   ],
   "source": [
    "md.compute_phi(traj)"
   ]
  },
  {
   "cell_type": "code",
   "execution_count": 10,
   "id": "fd89868c-acb0-4fb5-a8b7-c3f9ba704d8f",
   "metadata": {},
   "outputs": [
    {
     "data": {
      "text/plain": [
       "(array([[ 0,  5,  4, 21]]),\n",
       " array([[2.1176953],\n",
       "        [1.9228543],\n",
       "        [2.0460203],\n",
       "        ...,\n",
       "        [2.7297847],\n",
       "        [2.7743058],\n",
       "        [2.5423226]], dtype=float32))"
      ]
     },
     "execution_count": 10,
     "metadata": {},
     "output_type": "execute_result"
    }
   ],
   "source": [
    "md.compute_psi(traj)"
   ]
  },
  {
   "cell_type": "code",
   "execution_count": 11,
   "id": "ae150d3a-cca9-475c-9a55-024f9ca1bddb",
   "metadata": {},
   "outputs": [
    {
     "name": "stdout",
     "output_type": "stream",
     "text": [
      "[[-1.4152273  2.1176953]\n",
      " [-1.3409921  1.9228543]\n",
      " [-1.5236     2.0460203]\n",
      " ...\n",
      " [-1.281269   2.7297847]\n",
      " [-1.4981663  2.7743058]\n",
      " [-1.0591714  2.5423226]]\n"
     ]
    }
   ],
   "source": [
    "psi_indices, phi_indices = [ 0,  5,  4, 21], [ 4, 21, 24, 23]\n",
    "angles = md.compute_dihedrals(traj, [phi_indices, psi_indices])\n",
    "print(angles)"
   ]
  },
  {
   "cell_type": "code",
   "execution_count": 12,
   "id": "7903fc8c-f5b6-4398-afa0-20aa3be6a585",
   "metadata": {},
   "outputs": [
    {
     "data": {
      "text/plain": [
       "(2000000, 2)"
      ]
     },
     "execution_count": 12,
     "metadata": {},
     "output_type": "execute_result"
    }
   ],
   "source": [
    "angles.shape"
   ]
  },
  {
   "cell_type": "code",
   "execution_count": null,
   "id": "d96a87f4-70b1-48a6-b254-1c4fe9993e2b",
   "metadata": {},
   "outputs": [],
   "source": [
    "from pylab import *\n",
    "from math import pi\n",
    "\n",
    "figure()\n",
    "title('Dihedral Map: L-allo-Isoleucine dipeptide')\n",
    "scatter(angles[:, 0], angles[:, 1], marker='x', c=traj.time)\n",
    "cbar = colorbar()\n",
    "cbar.set_label('Time [ps]')\n",
    "xlabel(r'$\\Phi$ Angle [radians]')\n",
    "xlim(-pi, pi)\n",
    "ylabel(r'$\\Psi$ Angle [radians]')\n",
    "ylim(-pi, pi)"
   ]
  },
  {
   "cell_type": "markdown",
   "id": "bd885c58-9d24-464b-9c6b-08ef58a827ea",
   "metadata": {},
   "source": [
    "fig, ax = plt.subplots(figsize=(6,6),tight_layout=True)\n",
    "_,_,_,hist = ax.hist2d(angles[:, 0]*180/math.pi, angles[:, 1]*180/math.pi, bins=60, range=[[-180,180],[-180,180]])\n",
    "ax.set_xlim([-180, 180])\n",
    "ax.set_ylim([-180, 180])\n",
    "ax.set_xlabel(r'$\\Phi$ Angle', fontsize =15)\n",
    "ax.set_ylabel(r'$\\Psi$ Angle', fontsize =15)\n",
    "ax.set_title('Dihedral Map: L-allo-Isoleucine dipeptide', fontsize =18)\n",
    "ax.xaxis.set_ticks([-180,-120,-60,0,60,120,180])\n",
    "ax.yaxis.set_ticks([-180,-120,-60,0,60,120,180])\n",
    "plt.xticks(fontsize=13)\n",
    "plt.yticks(fontsize=13)\n",
    "plt.savefig('L-allo-Isoleucine dipeptide_dihedrals.png', dpi=600)"
   ]
  },
  {
   "cell_type": "code",
   "execution_count": null,
   "id": "026105b3-cf82-471c-a198-7f2d07f2835c",
   "metadata": {},
   "outputs": [],
   "source": [
    "import pyemma as pm\n",
    "\n",
    "fig, ax = plt.subplots(figsize=(7,6),tight_layout=True)\n",
    "fes = pm.plots.plot_free_energy(angles[:, 0]*180/math.pi, angles[:, 1]*180/math.pi, nbins=100, ax=ax)\n",
    "ax.set_xlim([-180, 180])\n",
    "ax.set_ylim([-180, 180])\n",
    "ax.set_xlabel(r'$\\Phi$ Angle (degree)', fontsize =15)\n",
    "ax.set_ylabel(r'$\\Psi$ Angle (degree)', fontsize =15)\n",
    "ax.set_title('L-allo-Isoleucine dipeptide', fontsize =18)\n",
    "ax.xaxis.set_ticks([-180,-120,-60,0,60,120,180])\n",
    "ax.yaxis.set_ticks([-180,-120,-60,0,60,120,180])\n",
    "plt.xticks(fontsize=13)\n",
    "plt.yticks(fontsize=13)\n",
    "plt.savefig('L-allo-Isoleucine dipeptide_freeenergy.png', dpi=600)\n",
    "plt.show()"
   ]
  },
  {
   "cell_type": "code",
   "execution_count": null,
   "id": "3507d224-ab8a-40d6-b1f6-ce0723738d05",
   "metadata": {},
   "outputs": [],
   "source": [
    "fig, ax = plt.subplots(figsize=(7,6),tight_layout=True)\n",
    "fes = pm.plots.plot_free_energy(angles[:, 0]*180/math.pi, angles[:, 1]*180/math.pi, nbins=100, ncontours=3, ax=ax)\n",
    "ax.set_xlim([-180, 180])\n",
    "ax.set_ylim([-180, 180])\n",
    "ax.set_xlabel(r'$\\Phi$ Angle (degree)', fontsize =15)\n",
    "ax.set_ylabel(r'$\\Psi$ Angle (degree)', fontsize =15)\n",
    "ax.set_title('Contour Map: L-allo-Isoleucine dipeptide', fontsize =18)\n",
    "ax.xaxis.set_ticks([-180,-120,-60,0,60,120,180])\n",
    "ax.yaxis.set_ticks([-180,-120,-60,0,60,120,180])\n",
    "plt.xticks(fontsize=13)\n",
    "plt.yticks(fontsize=13)\n",
    "plt.savefig('L-allo-Isoleucine dipeptide_contour.png', dpi=600)\n",
    "plt.show()"
   ]
  },
  {
   "cell_type": "code",
   "execution_count": 14,
   "id": "b813e1e6-d59f-4a1d-9ffc-78b75e79d1c7",
   "metadata": {},
   "outputs": [
    {
     "data": {
      "text/plain": [
       "20000"
      ]
     },
     "execution_count": 14,
     "metadata": {},
     "output_type": "execute_result"
    }
   ],
   "source": [
    "int(angles.shape[0]/100)"
   ]
  },
  {
   "cell_type": "code",
   "execution_count": 15,
   "id": "4d861399-e5d5-4ae9-b63f-9b43c231a2e2",
   "metadata": {},
   "outputs": [
    {
     "data": {
      "text/plain": [
       "array([    0,    10,    20, ..., 19980, 19990, 20000])"
      ]
     },
     "execution_count": 15,
     "metadata": {},
     "output_type": "execute_result"
    }
   ],
   "source": [
    "np.arange(0, int(angles.shape[0]/100)+1, 10)"
   ]
  },
  {
   "cell_type": "code",
   "execution_count": 16,
   "id": "f0967406-17e3-4bc2-a25b-59359064dfd6",
   "metadata": {},
   "outputs": [
    {
     "data": {
      "text/plain": [
       "(201,)"
      ]
     },
     "execution_count": 16,
     "metadata": {},
     "output_type": "execute_result"
    }
   ],
   "source": [
    "np.arange(0, int(angles.shape[0]/100)+1, 100).shape"
   ]
  },
  {
   "cell_type": "code",
   "execution_count": 17,
   "id": "d4b17646-340f-4ab3-a02b-fc36859c1a50",
   "metadata": {},
   "outputs": [
    {
     "data": {
      "text/plain": [
       "(201,)"
      ]
     },
     "execution_count": 17,
     "metadata": {},
     "output_type": "execute_result"
    }
   ],
   "source": [
    "np.arange(0, int(angles.shape[0])+1, 10000).shape"
   ]
  },
  {
   "cell_type": "markdown",
   "id": "7639946d-3d14-4156-aece-08becda050d1",
   "metadata": {},
   "source": [
    "from pylab import *\n",
    "from math import pi\n",
    "psi = angles[:, 1].flatten()\n",
    "phi = angles[:, 0].flatten()\n",
    "\n",
    "fig, axes = plt.subplots(2,1, figsize=(20,8))\n",
    "\n",
    "axes[0].plot(psi, lw=0.5)\n",
    "axes[1].plot(phi, lw=0.5)\n",
    "axes[0].set_title('L-allo-Isoleucine dipeptide', fontsize =18)\n",
    "axes[0].set_ylabel(r'$\\Psi$ Angle [radians]')\n",
    "axes[1].set_ylabel(r'$\\Phi$ Angle [radians]')\n",
    "axes[1].set_xlabel('Time (ns)')\n",
    "axes[0].set_xlabel('Time (ns)')\n",
    "\n",
    "for ax in axes:\n",
    "    ax.set_xticks(ticks=np.arange(0, int(angles.shape[0])+1, 10000), labels=np.arange(0, int(angles.shape[0]/100)+1, 100))\n",
    "    ax.set_xlim([0, angles.shape[0]])"
   ]
  },
  {
   "cell_type": "markdown",
   "id": "6b6045bd-f14c-4b65-be3e-ea741bcecba6",
   "metadata": {},
   "source": [
    "def find_transitions(s1_mask, s2_mask):\n",
    "    s2s1_transition_ids, s1s2_transition_ids = [], []\n",
    "    for i in tqdm(range(1, len(s1_mask)), desc=f'Finding transitions'):\n",
    "        s1_ids = [k for k, x in enumerate(s1_mask[:i]) if x]\n",
    "        s2_ids = [k for k, x in enumerate(s2_mask[:i]) if x]\n",
    "        if len(s1_ids) == 0 or len(s2_ids) == 0:\n",
    "            continue\n",
    "        if s1_mask[i] and (s1_ids[-1] < s2_ids[-1]):\n",
    "            s2s1_transition_ids.append([s2_ids[-1], i])\n",
    "            with open('s2s1.txt', 'a') as f:\n",
    "                # Write the list of strings to the file\n",
    "                f.writelines(str(s2_ids[-1]) + ' ' + str(i) + '\\n')\n",
    "        if s2_mask[i] and (s1_ids[-1] > s2_ids[-1]):\n",
    "            s1s2_transition_ids.append([s1_ids[-1], i])\n",
    "            with open('s1s2.txt', 'a') as f:\n",
    "                # Write the list of strings to the file\n",
    "                f.writelines(str(s1_ids[-1]) + ' ' + str(i) + '\\n')\n",
    "    return s2s1_transition_ids, s1s2_transition_ids"
   ]
  },
  {
   "cell_type": "markdown",
   "id": "4ec4b844-70d9-4fbc-a4fd-749c5bc9af2c",
   "metadata": {},
   "source": [
    "def save_transitions(traj, s2s1_transition_ids, s1s2_transition_ids):\n",
    "    if len(s2s1_transition_ids)>0:\n",
    "        for no, ids in enumerate(s2s1_transition_ids):\n",
    "            transition_traj = traj[ids[0]:ids[1]+1]\n",
    "            transition_traj.superpose(transition_traj[0])\n",
    "            transition_traj.save_pdb(md_transition_path.joinpath(f'traj_s2s1slowest{no}.pdb'))\n",
    "    if len(s1s2_transition_ids)>0:\n",
    "        for no, ids in enumerate(s1s2_transition_ids):\n",
    "            transition_traj = traj[ids[0]:ids[1]+1]\n",
    "            transition_traj.superpose(transition_traj[0])\n",
    "            transition_traj.save_pdb(md_transition_path.joinpath(f'traj_s1s2slowest{no}.pdb'))\n",
    "    return None"
   ]
  },
  {
   "cell_type": "markdown",
   "id": "fe77557f-9789-4f3e-b0ca-51792d2d0f64",
   "metadata": {},
   "source": [
    "from tqdm import tqdm"
   ]
  },
  {
   "cell_type": "markdown",
   "id": "d53657a5-9fe3-43ee-b9ec-9d863bec8cda",
   "metadata": {},
   "source": [
    "from pathlib import Path"
   ]
  },
  {
   "cell_type": "markdown",
   "id": "73d62068-a1ef-430c-9770-2131b219ba22",
   "metadata": {},
   "source": [
    "md_transition_path = Path('./')"
   ]
  },
  {
   "cell_type": "markdown",
   "id": "a8dac085-5e4a-4b04-a4b2-d564eb6af368",
   "metadata": {},
   "source": [
    "find_transitions(phi>0.5, phi<-1.5)"
   ]
  },
  {
   "cell_type": "markdown",
   "id": "47e66526-8741-4172-8263-151db537ab0e",
   "metadata": {},
   "source": [
    "s2s1_transition_ids = [[406252, 406255],\n",
    "[479903, 479904],\n",
    "[487583, 487584],\n",
    "[838475, 838476],\n",
    "[1156247, 1156248],\n",
    "[1157515, 1157526],\n",
    "[1171865, 1171866],\n",
    "[1638263, 1638264],\n",
    "[1745914, 1745915],\n",
    "[1833049, 1833050],\n",
    "[1898302, 1898309]]\n",
    "s1s2_transition_ids =  [[133935, 133936],\n",
    "[410399, 410415],\n",
    "[479904, 479905],\n",
    "[487584, 487585],\n",
    "[838476, 838477],\n",
    "[1156248, 1156249],\n",
    "[1157883, 1157905],\n",
    "[1171866, 1171867],\n",
    "[1638264, 1638265],\n",
    "[1747695, 1747702],\n",
    "[1833050, 1833051],\n",
    "[1898333, 1898346]]\n",
    "save_transitions(traj, s2s1_transition_ids, s1s2_transition_ids)"
   ]
  },
  {
   "cell_type": "code",
   "execution_count": null,
   "id": "b4daf4fb-73d6-4088-8668-23cb8a0e3335",
   "metadata": {},
   "outputs": [],
   "source": []
  }
 ],
 "metadata": {
  "kernelspec": {
   "display_name": "Python 3 (ipykernel)",
   "language": "python",
   "name": "python3"
  },
  "language_info": {
   "codemirror_mode": {
    "name": "ipython",
    "version": 3
   },
   "file_extension": ".py",
   "mimetype": "text/x-python",
   "name": "python",
   "nbconvert_exporter": "python",
   "pygments_lexer": "ipython3",
   "version": "3.10.0"
  }
 },
 "nbformat": 4,
 "nbformat_minor": 5
}

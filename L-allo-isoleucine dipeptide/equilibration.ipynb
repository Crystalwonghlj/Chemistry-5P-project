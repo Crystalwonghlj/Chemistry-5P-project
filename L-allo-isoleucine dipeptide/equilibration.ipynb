{
 "cells": [
  {
   "cell_type": "code",
   "execution_count": 1,
   "id": "65f70cc9-d9a8-4ced-b2bd-e1295a4b5a21",
   "metadata": {},
   "outputs": [],
   "source": [
    "import numpy as np\n",
    "from openmm.app import *\n",
    "from openmm.unit import *\n",
    "from openmm import *\n",
    "from openmm.app.modeller import Modeller\n",
    "from pdbfixer import PDBFixer"
   ]
  },
  {
   "cell_type": "code",
   "execution_count": 2,
   "id": "b2624e2a-8653-474f-9e79-e95630489eec",
   "metadata": {},
   "outputs": [],
   "source": [
    "raw = PDBFixer('L_allo_ile.pdb')\n",
    "raw.findMissingResidues()\n",
    "raw.findMissingAtoms()\n",
    "raw.addMissingAtoms()"
   ]
  },
  {
   "cell_type": "code",
   "execution_count": 3,
   "id": "f6c1a7d9-b9f8-4ed7-807e-2af3804c843f",
   "metadata": {},
   "outputs": [],
   "source": [
    "forcefield = ForceField('amber14/protein.ff14SB.xml', 'amber14/tip3p.xml')\n",
    "mdl = Modeller(raw.topology, raw.positions)\n",
    "mdl.addHydrogens(forcefield, pH=7.0)\n",
    "mdl.addSolvent(forcefield, 'tip3p', padding=1*nanometers)\n",
    "\n",
    "PDBFile.writeFile(mdl.topology, mdl.positions, open('L_allo_solvated_tmp.pdb', 'w'))"
   ]
  },
  {
   "cell_type": "code",
   "execution_count": 4,
   "id": "0c3c309b-93eb-4273-876a-6750dd1da965",
   "metadata": {},
   "outputs": [],
   "source": [
    "system = forcefield.createSystem(mdl.topology,\n",
    "                                 nonbondedMethod=PME,\n",
    "                                 nonbondedCutoff=1*nanometer)\n",
    "\n",
    "integrator = LangevinMiddleIntegrator(293*kelvin,\n",
    "                                      1.0/picoseconds,\n",
    "                                      2.0*femtoseconds)\n",
    "\n",
    "platform = openmm.Platform.getPlatformByName('CUDA')\n",
    "platform_properties = {'DeviceIndex':'0'}\n",
    "simulation = Simulation(mdl.topology, system, integrator, platform=platform,\n",
    "                        platformProperties=platform_properties)\n",
    "simulation.context.setPositions(mdl.positions)\n",
    "simulation.minimizeEnergy()\n",
    "\n",
    "# Trajectory saved every 2 ps\n",
    "simulation.reporters.append(PDBReporter('L_allo_NVT_equilibration.pdb', 1000))\n",
    "simulation.reporters.append(CheckpointReporter('L_allo_NVT_equilibrated.chk', reportInterval=1000))\n",
    "simulation.reporters.append(StateDataReporter('L_allo_NVT_file.txt', 1000, step=True, potentialEnergy=True, temperature=True))\n",
    "\n",
    "# NVT equilibration for 100 ps \n",
    "simulation.step(50000)"
   ]
  },
  {
   "cell_type": "code",
   "execution_count": null,
   "id": "1918eef5-3660-4969-ab00-b393b77313a8",
   "metadata": {},
   "outputs": [],
   "source": []
  }
 ],
 "metadata": {
  "kernelspec": {
   "display_name": "Python 3 (ipykernel)",
   "language": "python",
   "name": "python3"
  },
  "language_info": {
   "codemirror_mode": {
    "name": "ipython",
    "version": 3
   },
   "file_extension": ".py",
   "mimetype": "text/x-python",
   "name": "python",
   "nbconvert_exporter": "python",
   "pygments_lexer": "ipython3",
   "version": "3.10.0"
  }
 },
 "nbformat": 4,
 "nbformat_minor": 5
}

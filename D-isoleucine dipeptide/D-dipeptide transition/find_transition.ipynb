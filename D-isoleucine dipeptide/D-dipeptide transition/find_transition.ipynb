{
 "cells": [
  {
   "cell_type": "code",
   "execution_count": 1,
   "id": "f1386665-bce4-4740-9f35-a7583986c917",
   "metadata": {},
   "outputs": [],
   "source": [
    "import mdtraj as md"
   ]
  },
  {
   "cell_type": "code",
   "execution_count": 2,
   "id": "54bbddc6-8050-43db-8560-53ca7476c745",
   "metadata": {},
   "outputs": [],
   "source": [
    "from pathlib import Path"
   ]
  },
  {
   "cell_type": "code",
   "execution_count": 3,
   "id": "1637fdfa-5e8b-429c-9778-3f9049c644db",
   "metadata": {},
   "outputs": [
    {
     "name": "stdout",
     "output_type": "stream",
     "text": [
      "/home/crystal/Desktop/D-ile\n"
     ]
    }
   ],
   "source": [
    "!pwd"
   ]
  },
  {
   "cell_type": "code",
   "execution_count": 4,
   "id": "f980a124-9080-44d6-8846-0d9871093cf9",
   "metadata": {
    "scrolled": true
   },
   "outputs": [],
   "source": [
    "traj = md.load_dcd('D_prd.dcd', top='D_clean.pdb')"
   ]
  },
  {
   "cell_type": "code",
   "execution_count": 5,
   "id": "59afedaa-2228-4c07-b46f-49d731d3c74d",
   "metadata": {},
   "outputs": [
    {
     "data": {
      "text/plain": [
       "<mdtraj.Trajectory with 2000000 frames, 41 atoms, 2 residues, and unitcells at 0x7fc9ccf202b0>"
      ]
     },
     "execution_count": 5,
     "metadata": {},
     "output_type": "execute_result"
    }
   ],
   "source": [
    "traj"
   ]
  },
  {
   "cell_type": "code",
   "execution_count": 6,
   "id": "a6380f9f-c7fb-4554-a6b9-15b57a29dc95",
   "metadata": {},
   "outputs": [],
   "source": [
    "traj = md.Trajectory.superpose(traj, traj[0], frame=0, atom_indices=None, ref_atom_indices=None, parallel=True)"
   ]
  },
  {
   "cell_type": "code",
   "execution_count": 7,
   "id": "ae150d3a-cca9-475c-9a55-024f9ca1bddb",
   "metadata": {},
   "outputs": [
    {
     "name": "stdout",
     "output_type": "stream",
     "text": [
      "[[-1.1248068  1.1864308]\n",
      " [-1.0031949  1.0971526]\n",
      " [-0.9647075  1.179591 ]\n",
      " ...\n",
      " [ 1.566942  -2.6862783]\n",
      " [ 1.7314515 -2.6871   ]\n",
      " [ 1.46606   -2.2614856]]\n"
     ]
    }
   ],
   "source": [
    "psi_indices, phi_indices = [ 0,  5,  4, 21], [ 4, 21, 24, 23]\n",
    "angles = md.compute_dihedrals(traj, [phi_indices, psi_indices])\n",
    "print(angles)"
   ]
  },
  {
   "cell_type": "code",
   "execution_count": 8,
   "id": "dbd817e3-5f53-4858-a224-ef1bb654aec0",
   "metadata": {},
   "outputs": [],
   "source": [
    "from pylab import *\n",
    "from math import pi\n",
    "import matplotlib as mpl\n",
    "mpl.rcParams['agg.path.chunksize'] = 10000"
   ]
  },
  {
   "cell_type": "markdown",
   "id": "1f31db75-0ca5-4904-8702-f4b26a27a8c9",
   "metadata": {},
   "source": [
    "psi = angles[:, 1].flatten()\n",
    "phi = angles[:, 0].flatten()\n",
    "\n",
    "fig, axes = plt.subplots(2,1, figsize=(20,8))\n",
    "\n",
    "axes[0].plot(psi, lw=0.5)\n",
    "axes[1].plot(phi, lw=0.5)\n",
    "axes[0].set_title('L-Isoleucine dipeptide', fontsize =18)\n",
    "axes[0].set_ylabel(r'$\\Psi$ Angle [radians]')\n",
    "axes[1].set_ylabel(r'$\\Phi$ Angle [radians]')\n",
    "axes[1].set_xlabel('Time (ns)')\n",
    "axes[0].set_xlabel('Time (ns)')\n",
    "\n",
    "for ax in axes:\n",
    "    ax.set_xticks(ticks=np.arange(0, int(angles.shape[0])+1, 10000), labels=np.arange(0, int(angles.shape[0]/100)+1, 100))\n",
    "    ax.set_xlim([0, angles.shape[0]])\n",
    "plt.savefig('L-Isoleucine dipeptide_transition.png', dpi=600)"
   ]
  },
  {
   "cell_type": "code",
   "execution_count": 9,
   "id": "7638e67c-b114-4739-9f15-ac6a0af0dbea",
   "metadata": {},
   "outputs": [],
   "source": [
    "psi = angles[:, 1].flatten()\n",
    "phi = angles[:, 0].flatten()"
   ]
  },
  {
   "cell_type": "markdown",
   "id": "220fc177-8a56-4993-8360-6f43036900a1",
   "metadata": {},
   "source": [
    "import pyemma as pm\n",
    "from pylab import *\n",
    "from math import pi\n",
    "fig, ax = plt.subplots(figsize=(7,6),tight_layout=True)\n",
    "fes = pm.plots.plot_free_energy(angles[:, 0], angles[:, 1], nbins=100, ax=ax)\n",
    "ax.set_xlabel(r'$\\Phi$ Angle (degree)', fontsize =15)\n",
    "ax.set_ylabel(r'$\\Psi$ Angle (degree)', fontsize =15)\n",
    "ax.set_title('D-Isoleucine dipeptide', fontsize =18)\n",
    "plt.xticks(fontsize=13)\n",
    "plt.yticks(fontsize=13)\n",
    "plt.show()"
   ]
  },
  {
   "cell_type": "markdown",
   "id": "2d84e4f1-6249-41cc-be29-5a8357083254",
   "metadata": {},
   "source": [
    "phi < -1"
   ]
  },
  {
   "cell_type": "markdown",
   "id": "b3a76ee9-c259-4446-81c3-07e1716fbc94",
   "metadata": {},
   "source": [
    "phi < -1\n",
    "psi < 0.5 ; psi > -1"
   ]
  },
  {
   "cell_type": "markdown",
   "id": "f2daaccd-f91f-4e8d-9e13-0b3010b340ea",
   "metadata": {},
   "source": [
    "s1_mask = np.logical_and(np.logical_or(psi<1.5, psi> 0.5), phi > 1)"
   ]
  },
  {
   "cell_type": "markdown",
   "id": "6bd72dd1-1928-46cd-a5be-8d42aac49bb8",
   "metadata": {},
   "source": [
    "s2_mask = np.logical_and(np.logical_or(psi< -1, psi> 3), phi > 1)"
   ]
  },
  {
   "cell_type": "code",
   "execution_count": 10,
   "id": "845beb7d-6673-44c8-8914-8a820aacea68",
   "metadata": {},
   "outputs": [],
   "source": [
    "def find_transitions(s1_mask, s2_mask):\n",
    "    s2s1_transition_ids, s1s2_transition_ids = [], []\n",
    "    for i in tqdm(range(1, len(s1_mask)), desc=f'Finding transitions'):\n",
    "        s1_ids = [k for k, x in enumerate(s1_mask[:i]) if x]\n",
    "        s2_ids = [k for k, x in enumerate(s2_mask[:i]) if x]\n",
    "        if len(s1_ids) == 0 or len(s2_ids) == 0:\n",
    "            continue\n",
    "        if s1_mask[i] and (s1_ids[-1] < s2_ids[-1]):\n",
    "            s2s1_transition_ids.append([s2_ids[-1], i])\n",
    "            with open('2nds2s1.txt', 'a') as f:\n",
    "                # Write the list of strings to the file\n",
    "                f.writelines(str(s2_ids[-1]) + ' ' + str(i) + '\\n')\n",
    "        if s2_mask[i] and (s1_ids[-1] > s2_ids[-1]):\n",
    "            s1s2_transition_ids.append([s1_ids[-1], i])\n",
    "            with open('2nds1s2.txt', 'a') as f:\n",
    "                # Write the list of strings to the file\n",
    "                f.writelines(str(s1_ids[-1]) + ' ' + str(i) + '\\n')\n",
    "    return s2s1_transition_ids, s1s2_transition_ids"
   ]
  },
  {
   "cell_type": "code",
   "execution_count": 11,
   "id": "58ebe46c-8bef-4429-b5f3-2fe76f5fa5b4",
   "metadata": {},
   "outputs": [],
   "source": [
    "def save_transitions(traj, s2s1_transition_ids, s1s2_transition_ids):\n",
    "    if len(s2s1_transition_ids)>0:\n",
    "        for no, ids in enumerate(s2s1_transition_ids):\n",
    "            transition_traj = traj[ids[0]:ids[1]+1]\n",
    "            transition_traj.superpose(transition_traj[0])\n",
    "            transition_traj.save_pdb(md_transition_path.joinpath(f'traj_s2s1slow2nd{no}.pdb'))\n",
    "    if len(s1s2_transition_ids)>0:\n",
    "        for no, ids in enumerate(s1s2_transition_ids):\n",
    "            transition_traj = traj[ids[0]:ids[1]+1]\n",
    "            transition_traj.superpose(transition_traj[0])\n",
    "            transition_traj.save_pdb(md_transition_path.joinpath(f'traj_s1s2slow2nd{no}.pdb'))\n",
    "    return None"
   ]
  },
  {
   "cell_type": "code",
   "execution_count": 12,
   "id": "2a6d44e7-2015-4758-9c23-c2f5dd86bb27",
   "metadata": {},
   "outputs": [],
   "source": [
    "from tqdm import tqdm"
   ]
  },
  {
   "cell_type": "code",
   "execution_count": 13,
   "id": "73abae14-96ec-48a2-9f86-fca25fdfee09",
   "metadata": {},
   "outputs": [],
   "source": [
    "md_transition_path = Path('./')"
   ]
  },
  {
   "cell_type": "markdown",
   "id": "4b13a47f-2ec9-4c99-a03a-493d3cc6acd4",
   "metadata": {},
   "source": [
    "find_transitions(s1_mask, s2_mask)"
   ]
  },
  {
   "cell_type": "code",
   "execution_count": 14,
   "id": "2a7cc2db-49fd-4df0-be89-0e80bd40fcb6",
   "metadata": {},
   "outputs": [],
   "source": [
    "s2s1_transition_ids = [[0,0]]\n",
    "s1s2_transition_ids =  [[65503, 65504],\n",
    "[132020, 132021],\n",
    "[272039, 272040],\n",
    "[390548, 390549],\n",
    "[455979, 455980],\n",
    "[571218, 571219],\n",
    "[694850, 694851],\n",
    "[775478, 775479],\n",
    "[877388, 877389],\n",
    "[964310, 964311],\n",
    "[1239065, 1239066]]\n",
    "save_transitions(traj, s2s1_transition_ids, s1s2_transition_ids)"
   ]
  },
  {
   "cell_type": "markdown",
   "id": "ad5241b9-06a8-44c1-babf-f18ebe337308",
   "metadata": {
    "scrolled": true
   },
   "source": [
    "traj0 = md.load_pdb('traj_s1s2slowest1.pdb')"
   ]
  },
  {
   "cell_type": "markdown",
   "id": "d45464ce-fb20-4862-8f60-985a041a37df",
   "metadata": {},
   "source": [
    "md.compute_phi(traj0)"
   ]
  },
  {
   "cell_type": "code",
   "execution_count": null,
   "id": "73472cc9-af47-49c1-919d-5c530118ac79",
   "metadata": {},
   "outputs": [],
   "source": []
  }
 ],
 "metadata": {
  "kernelspec": {
   "display_name": "Python 3 (ipykernel)",
   "language": "python",
   "name": "python3"
  },
  "language_info": {
   "codemirror_mode": {
    "name": "ipython",
    "version": 3
   },
   "file_extension": ".py",
   "mimetype": "text/x-python",
   "name": "python",
   "nbconvert_exporter": "python",
   "pygments_lexer": "ipython3",
   "version": "3.10.0"
  }
 },
 "nbformat": 4,
 "nbformat_minor": 5
}

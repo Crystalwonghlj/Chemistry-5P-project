{
 "cells": [
  {
   "cell_type": "code",
   "execution_count": 1,
   "id": "f1386665-bce4-4740-9f35-a7583986c917",
   "metadata": {},
   "outputs": [],
   "source": [
    "import mdtraj as md"
   ]
  },
  {
   "cell_type": "code",
   "execution_count": 2,
   "id": "54bbddc6-8050-43db-8560-53ca7476c745",
   "metadata": {},
   "outputs": [],
   "source": [
    "from pathlib import Path"
   ]
  },
  {
   "cell_type": "code",
   "execution_count": 3,
   "id": "1637fdfa-5e8b-429c-9778-3f9049c644db",
   "metadata": {},
   "outputs": [
    {
     "name": "stdout",
     "output_type": "stream",
     "text": [
      "/home/crystal/Desktop/decaL\n"
     ]
    }
   ],
   "source": [
    "!pwd"
   ]
  },
  {
   "cell_type": "code",
   "execution_count": 4,
   "id": "f980a124-9080-44d6-8846-0d9871093cf9",
   "metadata": {
    "scrolled": true
   },
   "outputs": [],
   "source": [
    "traj = md.load_dcd('decaL_prd.dcd', top='decaL_clean.pdb')"
   ]
  },
  {
   "cell_type": "code",
   "execution_count": 5,
   "id": "59afedaa-2228-4c07-b46f-49d731d3c74d",
   "metadata": {},
   "outputs": [
    {
     "data": {
      "text/plain": [
       "<mdtraj.Trajectory with 2000000 frames, 193 atoms, 10 residues, and unitcells at 0x7fb9cbc7bd90>"
      ]
     },
     "execution_count": 5,
     "metadata": {},
     "output_type": "execute_result"
    }
   ],
   "source": [
    "traj"
   ]
  },
  {
   "cell_type": "code",
   "execution_count": 6,
   "id": "a6380f9f-c7fb-4554-a6b9-15b57a29dc95",
   "metadata": {},
   "outputs": [],
   "source": [
    "traj = md.Trajectory.superpose(traj, traj[0], frame=0, atom_indices=None, ref_atom_indices=None, parallel=True)"
   ]
  },
  {
   "cell_type": "markdown",
   "id": "bb090419-862e-4055-9801-b2f132d8d820",
   "metadata": {},
   "source": [
    "md.rmsf(traj, traj[0], frame=0, atom_indices=None, parallel=True, precentered=False)"
   ]
  },
  {
   "cell_type": "code",
   "execution_count": 7,
   "id": "79ed29fe-d1ec-4ce1-96bf-9bae5a46c240",
   "metadata": {
    "scrolled": true
   },
   "outputs": [
    {
     "name": "stdout",
     "output_type": "stream",
     "text": [
      "[array([[-2.3967967 ,  2.1113954 ],\n",
      "       [-2.5720289 ,  2.4043155 ],\n",
      "       [-2.6248775 ,  2.146798  ],\n",
      "       ...,\n",
      "       [-0.98182493,  2.2614574 ],\n",
      "       [-1.1026256 ,  2.07684   ],\n",
      "       [-1.6414802 ,  2.3840368 ]], dtype=float32), array([[-1.4792533,  2.1927392],\n",
      "       [-2.191297 ,  2.7861776],\n",
      "       [-2.2276006,  2.5695126],\n",
      "       ...,\n",
      "       [-1.4492573,  1.8945514],\n",
      "       [-1.3929515,  1.6353705],\n",
      "       [-1.3472149,  2.1931133]], dtype=float32), array([[-2.2232625 , -0.84843457],\n",
      "       [-1.5233443 , -0.92048067],\n",
      "       [-2.077363  , -0.5693003 ],\n",
      "       ...,\n",
      "       [-1.0680399 , -0.5743143 ],\n",
      "       [-0.9179571 , -0.43310112],\n",
      "       [-0.9678982 , -0.68397117]], dtype=float32), array([[-1.6271757 ,  2.1587515 ],\n",
      "       [-1.910881  ,  2.2375846 ],\n",
      "       [-1.9017276 ,  2.072853  ],\n",
      "       ...,\n",
      "       [-1.2069081 , -0.2982024 ],\n",
      "       [-0.9997073 , -0.4693609 ],\n",
      "       [-1.2494581 , -0.17315002]], dtype=float32), array([[-1.6686207 ,  2.2378182 ],\n",
      "       [-1.3772926 ,  2.318452  ],\n",
      "       [-1.9340187 ,  2.2942705 ],\n",
      "       ...,\n",
      "       [-0.9201676 , -0.44145536],\n",
      "       [-1.1695648 , -0.37552205],\n",
      "       [-0.94414455, -0.5085635 ]], dtype=float32), array([[-1.9872743 ,  1.9198929 ],\n",
      "       [-2.3375294 ,  2.2992933 ],\n",
      "       [-1.254876  ,  1.6825402 ],\n",
      "       ...,\n",
      "       [-1.4402821 , -0.63496494],\n",
      "       [-1.2459147 , -0.43215042],\n",
      "       [-1.3761437 , -0.57826895]], dtype=float32), array([[-0.9925647 ,  2.1470451 ],\n",
      "       [-1.1768544 ,  2.348456  ],\n",
      "       [-1.0191702 ,  2.3037348 ],\n",
      "       ...,\n",
      "       [-1.1317251 , -0.37690815],\n",
      "       [-1.2844018 , -0.6872076 ],\n",
      "       [-1.3063242 , -0.5001195 ]], dtype=float32), array([[-1.8072528 ,  2.283244  ],\n",
      "       [-2.0098035 ,  2.306063  ],\n",
      "       [-2.4448514 ,  2.3344026 ],\n",
      "       ...,\n",
      "       [-1.4733623 , -0.81059086],\n",
      "       [-1.2992386 , -0.60555685],\n",
      "       [-1.0737053 , -0.80261683]], dtype=float32), array([[-2.4553351 ,  2.7059252 ],\n",
      "       [-2.3441162 ,  2.8159864 ],\n",
      "       [-2.4452343 ,  2.7832153 ],\n",
      "       ...,\n",
      "       [-0.90838903,  0.02771734],\n",
      "       [-0.83673126, -0.25832868],\n",
      "       [-1.2168472 , -0.01672041]], dtype=float32)]\n"
     ]
    }
   ],
   "source": [
    "psi_indices = [[  0,   4,   6,  21],\n",
    "        [ 21,  23,  25,  40],\n",
    "        [ 40,  42,  44,  59],\n",
    "        [ 59,  61,  63,  78],\n",
    "        [ 78,  80,  82,  97],\n",
    "        [ 97,  99, 101, 116],\n",
    "        [116, 118, 120, 135],\n",
    "        [135, 137, 139, 154],\n",
    "        [154, 156, 158, 173]]\n",
    "phi_indices = [[  6,  21,  23,  25],\n",
    "        [ 25,  40,  42,  44],\n",
    "        [ 44,  59,  61,  63],\n",
    "        [ 63,  78,  80,  82],\n",
    "        [ 82,  97,  99, 101],\n",
    "        [101, 116, 118, 120],\n",
    "        [120, 135, 137, 139],\n",
    "        [139, 154, 156, 158],\n",
    "        [158, 173, 175, 177]]\n",
    "angles = []\n",
    "for i in range(min(len(phi_indices), len(psi_indices))):\n",
    "    phi_set = phi_indices[i]\n",
    "    psi_set = psi_indices[i]\n",
    "    angles.append(md.compute_dihedrals(traj, [phi_set, psi_set]))\n",
    "print(angles)"
   ]
  },
  {
   "cell_type": "code",
   "execution_count": 9,
   "id": "9add82a3-4f5d-49d3-82d8-cc2569df341e",
   "metadata": {},
   "outputs": [
    {
     "data": {
      "text/plain": [
       "(9, 2000000, 2)"
      ]
     },
     "execution_count": 9,
     "metadata": {},
     "output_type": "execute_result"
    }
   ],
   "source": [
    "import numpy as np\n",
    "np.shape(angles)"
   ]
  },
  {
   "cell_type": "code",
   "execution_count": 17,
   "id": "6da472c9-fadc-4d92-b5e2-d70186ca147d",
   "metadata": {},
   "outputs": [],
   "source": [
    "import pyemma as pm\n",
    "for i in range(len(angles)):\n",
    "    phi_values = angles[i][:, 0]\n",
    "    psi_values = angles[i][:, 1]\n",
    "    phi_set = phi_indices[i]\n",
    "    psi_set = psi_indices[i]"
   ]
  },
  {
   "cell_type": "code",
   "execution_count": 21,
   "id": "457ad1a7-d84d-4a6c-978e-781ce5f39eda",
   "metadata": {},
   "outputs": [],
   "source": [
    "def find_transitions(s1_mask, s2_mask, min_len=1):\n",
    "    s2s1_transition_ids, s1s2_transition_ids = [], []\n",
    "    \n",
    "    intermediate_mask = ~np.logical_or(s1_mask, s2_mask)\n",
    "    intermediate_ids = [i for i, value in enumerate(intermediate_mask) if value]\n",
    "    split_indices = np.where(np.diff(intermediate_ids) > 1)[0] + 1\n",
    "    intermediate_chunk_ids = [c for c in np.split(intermediate_ids, split_indices) if len(c)>min_len]\n",
    "\n",
    "    for c in intermediate_chunk_ids:\n",
    "        if c[0] == 0 or c[-1] == len(s1_mask)-1: continue \n",
    "        if (s1_mask[c[0]-1] == True) and (s2_mask[c[-1]+1] == True):\n",
    "            s1s2_transition_ids.append([c[0]-1, c[-1]+1])\n",
    "            with open('s1s2.txt', 'a') as f:\n",
    "                f.writelines(str(c[0]-1) + ' ' + str(c[-1]+1) + '\\n')\n",
    "        elif (s2_mask[c[0]-1] == True) and (s1_mask[c[-1]+1] == True):\n",
    "            s2s1_transition_ids.append([c[0]-1, c[-1]+1])\n",
    "            with open('s2s1.txt', 'a') as f:\n",
    "                f.writelines(str(c[0]-1) + ' ' + str(c[-1]+1) + '\\n')\n",
    "    return s2s1_transition_ids, s1s2_transition_ids"
   ]
  },
  {
   "cell_type": "code",
   "execution_count": 12,
   "id": "555abf96-125a-4975-8685-e239dfb9f6e6",
   "metadata": {},
   "outputs": [],
   "source": [
    "def save_transitions(traj, s2s1_transition_ids, s1s2_transition_ids):\n",
    "    if len(s2s1_transition_ids)>0:\n",
    "        for no, ids in enumerate(s2s1_transition_ids):\n",
    "            transition_traj = traj[ids[0]:ids[1]+1]\n",
    "            transition_traj.superpose(transition_traj[0])\n",
    "            transition_traj.save_pdb(md_transition_path.joinpath(f'traj_s2s1slowest{no}.pdb'))\n",
    "    if len(s1s2_transition_ids)>0:\n",
    "        for no, ids in enumerate(s1s2_transition_ids):\n",
    "            transition_traj = traj[ids[0]:ids[1]+1]\n",
    "            transition_traj.superpose(transition_traj[0])\n",
    "            transition_traj.save_pdb(md_transition_path.joinpath(f'traj_s1s2slowest{no}.pdb'))\n",
    "    return None"
   ]
  },
  {
   "cell_type": "code",
   "execution_count": 13,
   "id": "2b3d3631-8e04-4a7a-abff-1202527e1926",
   "metadata": {},
   "outputs": [],
   "source": [
    "from tqdm import tqdm"
   ]
  },
  {
   "cell_type": "code",
   "execution_count": 14,
   "id": "7aeb2148-d4ca-4f63-b148-bb1ef71dc9a7",
   "metadata": {},
   "outputs": [],
   "source": [
    "from pathlib import Path"
   ]
  },
  {
   "cell_type": "code",
   "execution_count": 15,
   "id": "9ba48639-ff88-4218-b631-2b50b1facae1",
   "metadata": {},
   "outputs": [],
   "source": [
    "md_transition_path = Path('./')"
   ]
  },
  {
   "cell_type": "code",
   "execution_count": 23,
   "id": "2059a702-b312-4775-ad3b-9f77e3bd7882",
   "metadata": {},
   "outputs": [],
   "source": [
    "import pyemma as pm\n",
    "for i in range(len(angles)):\n",
    "    phi_values = angles[i][:, 0]\n",
    "    psi_values = angles[i][:, 1]\n",
    "    phi_set = phi_indices[i]\n",
    "    psi_set = psi_indices[i]\n",
    "    find_transitions(phi_values < -0.5 , phi_values > 0.5)"
   ]
  },
  {
   "cell_type": "code",
   "execution_count": 24,
   "id": "0640ff3e-43cb-497e-980f-f031c184eb70",
   "metadata": {},
   "outputs": [],
   "source": [
    "s2s1_transition_ids = [\n",
    "[287522, 287525],\n",
    "[1089845, 1089850],\n",
    "[333089, 333092]]\n",
    "s1s2_transition_ids =  [[231204, 231208],\n",
    "  [1083454, 1083459]]\n",
    "save_transitions(traj, s2s1_transition_ids, s1s2_transition_ids)"
   ]
  },
  {
   "cell_type": "code",
   "execution_count": null,
   "id": "b4daf4fb-73d6-4088-8668-23cb8a0e3335",
   "metadata": {},
   "outputs": [],
   "source": []
  }
 ],
 "metadata": {
  "kernelspec": {
   "display_name": "Python 3 (ipykernel)",
   "language": "python",
   "name": "python3"
  },
  "language_info": {
   "codemirror_mode": {
    "name": "ipython",
    "version": 3
   },
   "file_extension": ".py",
   "mimetype": "text/x-python",
   "name": "python",
   "nbconvert_exporter": "python",
   "pygments_lexer": "ipython3",
   "version": "3.10.0"
  }
 },
 "nbformat": 4,
 "nbformat_minor": 5
}

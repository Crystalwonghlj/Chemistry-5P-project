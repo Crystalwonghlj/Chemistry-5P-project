{
 "cells": [
  {
   "cell_type": "code",
   "execution_count": 1,
   "id": "951798e1-9b5d-4f3c-ab64-72780d310531",
   "metadata": {},
   "outputs": [
    {
     "name": "stderr",
     "output_type": "stream",
     "text": [
      "Warning on use of the timeseries module: If the inherent timescales of the system are long compared to those being analyzed, this statistical inefficiency may be an underestimate.  The estimate presumes the use of many statistically independent samples.  Tests should be performed to assess whether this condition is satisfied.   Be cautious in the interpretation of the data.\n",
      "WARNING:pymbar.mbar_solvers:\n",
      "****** PyMBAR will use 64-bit JAX! *******\n",
      "* JAX is currently set to 32-bit bitsize *\n",
      "* which is its default.                  *\n",
      "*                                        *\n",
      "* PyMBAR requires 64-bit mode and WILL   *\n",
      "* enable JAX's 64-bit mode when called.  *\n",
      "*                                        *\n",
      "* This MAY cause problems with other     *\n",
      "* Uses of JAX in the same code.          *\n",
      "******************************************\n",
      "\n"
     ]
    }
   ],
   "source": [
    "import numpy as np\n",
    "from openmm.app import *\n",
    "from openmm.unit import *\n",
    "from openmm import *\n",
    "from openmm.app.modeller import Modeller\n",
    "from pdbfixer import PDBFixer\n",
    "import openmmtools"
   ]
  },
  {
   "cell_type": "code",
   "execution_count": 2,
   "id": "b0ee5411-4a6f-4c7b-8f55-d934bbe6253c",
   "metadata": {},
   "outputs": [],
   "source": [
    "raw = PDBFixer('deca56D.pdb')\n",
    "raw.findMissingResidues()\n",
    "raw.findMissingAtoms()\n",
    "raw.addMissingAtoms()"
   ]
  },
  {
   "cell_type": "code",
   "execution_count": 3,
   "id": "98b2ef31-ddd7-4319-b977-20807e017a81",
   "metadata": {},
   "outputs": [],
   "source": [
    "forcefield = ForceField('amber14/protein.ff14SB.xml', 'amber14/tip3p.xml')\n",
    "mdl = Modeller(raw.topology, raw.positions)\n",
    "mdl.addHydrogens(forcefield, pH=7.0)\n",
    "mdl.addSolvent(forcefield, 'tip3p', padding=1*nanometers)\n",
    "\n",
    "PDBFile.writeFile(mdl.topology, mdl.positions, open('deca56D_solvated.pdb', 'w'))"
   ]
  },
  {
   "cell_type": "code",
   "execution_count": 4,
   "id": "544be775-b831-46c5-9c59-dfb2eb5397bc",
   "metadata": {},
   "outputs": [],
   "source": [
    "system = forcefield.createSystem(mdl.topology,\n",
    "                                 nonbondedMethod=PME,\n",
    "                                 nonbondedCutoff=1*nanometer)\n",
    "\n",
    "integrator = LangevinMiddleIntegrator(293*kelvin,\n",
    "                                      1.0/picoseconds,\n",
    "                                      2.0*femtoseconds)\n",
    "\n",
    "platform = openmm.Platform.getPlatformByName('CUDA')\n",
    "platform_properties = {'DeviceIndex':'2'}\n",
    "simulation = Simulation(mdl.topology, system, integrator, platform=platform,\n",
    "                        platformProperties=platform_properties)\n",
    "simulation.context.setPositions(mdl.positions)\n",
    "simulation.minimizeEnergy()\n",
    "\n",
    "# Trajectory saved every 2 ps\n",
    "simulation.reporters.append(PDBReporter('NVT_equilibration.pdb', 1000))\n",
    "simulation.reporters.append(CheckpointReporter('NVT_equilibrated.chk', reportInterval=1000))\n",
    "simulation.reporters.append(StateDataReporter('NVT_file.txt', 1000, step=True, potentialEnergy=True, temperature=True))\n",
    "\n",
    "# NVT equilibration for 100 ps \n",
    "simulation.step(50000)"
   ]
  },
  {
   "cell_type": "code",
   "execution_count": null,
   "id": "9506800e-56b3-428e-b354-1d7a3a030f67",
   "metadata": {},
   "outputs": [],
   "source": []
  }
 ],
 "metadata": {
  "kernelspec": {
   "display_name": "Python 3 (ipykernel)",
   "language": "python",
   "name": "python3"
  },
  "language_info": {
   "codemirror_mode": {
    "name": "ipython",
    "version": 3
   },
   "file_extension": ".py",
   "mimetype": "text/x-python",
   "name": "python",
   "nbconvert_exporter": "python",
   "pygments_lexer": "ipython3",
   "version": "3.10.0"
  }
 },
 "nbformat": 4,
 "nbformat_minor": 5
}

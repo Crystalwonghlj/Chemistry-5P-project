{
 "cells": [
  {
   "cell_type": "code",
   "execution_count": 7,
   "id": "724caa47-4aa4-4651-8eef-91580436542c",
   "metadata": {},
   "outputs": [],
   "source": [
    "import numpy as np\n",
    "import gudhi\n",
    "import mdtraj as md\n",
    "import seaborn as sns\n",
    "import matplotlib as mpl\n",
    "import matplotlib.pyplot as plt\n",
    "from pylab import *\n",
    "from math import pi\n",
    "import MDAnalysis as mda\n",
    "from MDAnalysis.analysis.base import (AnalysisBase,\n",
    "                                      AnalysisFromFunction,\n",
    "                                      analysis_class)\n",
    "import pandas as pd\n",
    "from sklearn.metrics.pairwise import pairwise_kernels\n",
    "from sklearn.cluster import spectral_clustering\n",
    "import random"
   ]
  },
  {
   "cell_type": "code",
   "execution_count": 8,
   "id": "b0c097d2-f150-44a8-a6b8-f31335a60cee",
   "metadata": {},
   "outputs": [],
   "source": [
    "traj5 = md.load('normal100frame.pdb')\n",
    "traj5 = md.Trajectory.superpose(traj5, traj5[0], frame=0, atom_indices=None, ref_atom_indices=None, parallel=True)"
   ]
  },
  {
   "cell_type": "code",
   "execution_count": 9,
   "id": "209c2a7d-f6ef-4ac2-96bc-4935a158e9d1",
   "metadata": {},
   "outputs": [],
   "source": [
    "traj6 = md.load('ahelix100frame.pdb')\n",
    "traj6 = md.Trajectory.superpose(traj6, traj6[0], frame=0, atom_indices=None, ref_atom_indices=None, parallel=True)"
   ]
  },
  {
   "cell_type": "code",
   "execution_count": 10,
   "id": "bd79c00a-6627-4d41-9544-cbd68967d623",
   "metadata": {},
   "outputs": [],
   "source": [
    "carbon_atoms = traj6.topology.select(\"element == 'C'\")"
   ]
  },
  {
   "cell_type": "code",
   "execution_count": 11,
   "id": "ab681273-3a3f-4bfc-af4e-9228b6499d41",
   "metadata": {},
   "outputs": [],
   "source": [
    "num_frames = traj6.n_frames"
   ]
  },
  {
   "cell_type": "code",
   "execution_count": 12,
   "id": "8f7503e9-91e2-4b6c-bbba-b8f9694c734d",
   "metadata": {
    "scrolled": true
   },
   "outputs": [
    {
     "name": "stdout",
     "output_type": "stream",
     "text": [
      "0\n",
      "1\n",
      "2\n",
      "3\n",
      "4\n",
      "5\n",
      "6\n",
      "7\n",
      "8\n",
      "9\n",
      "10\n",
      "11\n",
      "12\n",
      "13\n",
      "14\n",
      "15\n",
      "16\n",
      "17\n",
      "18\n",
      "19\n",
      "20\n",
      "21\n",
      "22\n",
      "23\n",
      "24\n",
      "25\n",
      "26\n",
      "27\n",
      "28\n",
      "29\n",
      "30\n",
      "31\n",
      "32\n",
      "33\n",
      "34\n",
      "35\n",
      "36\n",
      "37\n",
      "38\n",
      "39\n",
      "40\n",
      "41\n",
      "42\n",
      "43\n",
      "44\n",
      "45\n",
      "46\n",
      "47\n",
      "48\n",
      "49\n",
      "50\n",
      "51\n",
      "52\n",
      "53\n",
      "54\n",
      "55\n",
      "56\n",
      "57\n",
      "58\n",
      "59\n",
      "60\n",
      "61\n",
      "62\n",
      "63\n",
      "64\n",
      "65\n",
      "66\n",
      "67\n",
      "68\n",
      "69\n",
      "70\n",
      "71\n",
      "72\n",
      "73\n",
      "74\n",
      "75\n",
      "76\n",
      "77\n",
      "78\n",
      "79\n",
      "80\n",
      "81\n",
      "82\n",
      "83\n",
      "84\n",
      "85\n",
      "86\n",
      "87\n",
      "88\n",
      "89\n",
      "90\n",
      "91\n",
      "92\n",
      "93\n",
      "94\n",
      "95\n",
      "96\n",
      "97\n",
      "98\n",
      "99\n"
     ]
    }
   ],
   "source": [
    "distance_matrix = np.zeros((num_frames, num_frames))\n",
    "\n",
    "for frame1 in range(num_frames):\n",
    "    persistence_pairs_frame1 = []\n",
    "    carbon_coordinates_frame1 = traj6.xyz[frame1, carbon_atoms, :]\n",
    "    rips_complex_frame1 = gudhi.RipsComplex(points=carbon_coordinates_frame1)\n",
    "    simplex_tree_frame1 = rips_complex_frame1.create_simplex_tree(max_dimension=3)\n",
    "    persistence_frame1 = simplex_tree_frame1.persistence()\n",
    "    persistence_pairs1 = simplex_tree_frame1.persistence_intervals_in_dimension(1)\n",
    "    persistence_diagrams1 = []\n",
    "    persistence_diagrams1.append(persistence_pairs1)\n",
    "    print(f'{frame1}')\n",
    "    for frame2 in range(frame1 + 1, num_frames):\n",
    "        persistence_pairs_frame2 = []\n",
    "        carbon_coordinates_frame2 = traj6.xyz[frame2, carbon_atoms, :]\n",
    "        rips_complex_frame2 = gudhi.RipsComplex(points=carbon_coordinates_frame2)\n",
    "        simplex_tree_frame2 = rips_complex_frame2.create_simplex_tree(max_dimension=3)\n",
    "        persistence_frame2 = simplex_tree_frame2.persistence()\n",
    "        persistence_pairs2 = simplex_tree_frame2.persistence_intervals_in_dimension(1)\n",
    "        persistence_diagrams2 = []\n",
    "        persistence_diagrams2.append(persistence_pairs2)\n",
    "        bottleneck_distance = gudhi.bottleneck_distance(persistence_pairs1, persistence_pairs2)\n",
    "\n",
    "        distance_matrix[frame1, frame2] = bottleneck_distance"
   ]
  },
  {
   "cell_type": "code",
   "execution_count": 14,
   "id": "97a308b4-04a9-4c62-b958-0cd8f33ddff3",
   "metadata": {},
   "outputs": [],
   "source": [
    "np.save('bhairpin100H1.npy',distance_matrix)"
   ]
  },
  {
   "cell_type": "code",
   "execution_count": null,
   "id": "a8182124-8d29-4595-8d94-8c23beba8ce1",
   "metadata": {},
   "outputs": [],
   "source": []
  }
 ],
 "metadata": {
  "kernelspec": {
   "display_name": "Python 3 (ipykernel)",
   "language": "python",
   "name": "python3"
  },
  "language_info": {
   "codemirror_mode": {
    "name": "ipython",
    "version": 3
   },
   "file_extension": ".py",
   "mimetype": "text/x-python",
   "name": "python",
   "nbconvert_exporter": "python",
   "pygments_lexer": "ipython3",
   "version": "3.10.0"
  }
 },
 "nbformat": 4,
 "nbformat_minor": 5
}

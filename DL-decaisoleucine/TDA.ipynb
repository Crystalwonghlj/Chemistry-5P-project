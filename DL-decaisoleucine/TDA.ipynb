{
 "cells": [
  {
   "cell_type": "code",
   "execution_count": 1,
   "id": "951798e1-9b5d-4f3c-ab64-72780d310531",
   "metadata": {},
   "outputs": [],
   "source": [
    "import numpy as np\n",
    "import gudhi\n",
    "import mdtraj as md\n",
    "import seaborn as sns\n",
    "import itertools\n",
    "import matplotlib as mpl\n",
    "import matplotlib.pyplot as plt"
   ]
  },
  {
   "cell_type": "code",
   "execution_count": 2,
   "id": "9506800e-56b3-428e-b354-1d7a3a030f67",
   "metadata": {},
   "outputs": [],
   "source": [
    "traj = md.load_dcd('deca56D_prd.dcd', top='deca56D_clean.pdb')\n",
    "traj = md.Trajectory.superpose(traj, traj[0], frame=0, atom_indices=None, ref_atom_indices=None, parallel=True)"
   ]
  },
  {
   "cell_type": "markdown",
   "id": "2aa5abbd-83fd-4739-b24c-e86fabb74d9b",
   "metadata": {},
   "source": [
    "traj3 = md.load('bottleneck_selected_trajectory.pdb')\n",
    "traj3 = md.Trajectory.superpose(traj3, traj3[0], frame=0, atom_indices=None, ref_atom_indices=None, parallel=True)"
   ]
  },
  {
   "cell_type": "markdown",
   "id": "2e178871-88c1-48c7-b2f5-49e6dfb53d9e",
   "metadata": {},
   "source": [
    "rmsd = md.rmsd(traj3, traj3[0], frame=0, atom_indices=None, parallel=True, precentered=False)*10"
   ]
  },
  {
   "cell_type": "markdown",
   "id": "3cd712ea-5799-40a7-ab5c-b26289f19875",
   "metadata": {},
   "source": [
    "np.save('BottleneckRMSD.npy',rmsd)"
   ]
  },
  {
   "cell_type": "code",
   "execution_count": null,
   "id": "c038a9e7-ff9f-41b2-aaf9-cc5eea453c8a",
   "metadata": {},
   "outputs": [],
   "source": [
    "from pylab import *\n",
    "from math import pi\n",
    "time_steps = np.arange(0, 200)\n",
    "\n",
    "fig, ax = plt.subplots(figsize=(12,6))\n",
    "inty_ax = fig.add_axes([ax.get_position().x1 + 0.01, ax.get_position().y0,\n",
    "                            0.15, ax.get_position().height])\n",
    "\n",
    "ax.plot(time_steps, rmsd, marker='o', markersize=0, linestyle='-', lw=3)\n",
    "ax.set_xlabel('Time Steps [ps]', fontsize = 15)\n",
    "ax.set_ylabel('RMSD Value [Å]', fontsize = 15)\n",
    "ax.tick_params(labelsize = 15)\n",
    "sns.kdeplot(y = rmsd, ax = inty_ax, lw=3)\n",
    "inty_ax.set_xlabel('Density', fontsize=15)\n",
    "inty_ax.tick_params(labelleft = False, labelsize = 15)\n",
    "\n",
    "fig.suptitle('56D-decapeptide RMSD', fontsize = 20)\n",
    "plot_filename = f'selected frame RMSD.png'\n",
    "plt.savefig(plot_filename, bbox_inches='tight', dpi=900)\n",
    "plt.show()"
   ]
  },
  {
   "cell_type": "markdown",
   "id": "ecd3745d-a695-4cfe-9680-5069bcbc5145",
   "metadata": {},
   "source": [
    "subset_traj = traj[1642600:1642700]\n",
    "subset_traj.save('bsheetbottleframes.pdb')"
   ]
  },
  {
   "cell_type": "markdown",
   "id": "73ad2c7d-ceea-4011-bfdb-8d0b7b82f803",
   "metadata": {},
   "source": [
    "subset_traj = traj[100100:100200]\n",
    "subset_traj.save('bsheetbottleframes.pdb')"
   ]
  },
  {
   "cell_type": "markdown",
   "id": "21c237e1-6e1b-44a2-ad26-b1dfcf49b198",
   "metadata": {},
   "source": [
    "num_frames = min(traj.n_frames, 1400000)\n",
    "\n",
    "selected_frames = range(0, num_frames, 7000)\n",
    "selected_traj = traj[selected_frames]\n",
    "\n",
    "# Save the selected trajectories into a new PDB file\n",
    "selected_traj.save_pdb('bottleneck_selected_trajectory.pdb')"
   ]
  },
  {
   "cell_type": "code",
   "execution_count": 3,
   "id": "39885f7a-caea-4c24-94b4-73c111439339",
   "metadata": {},
   "outputs": [],
   "source": [
    "atomic_coordinates = traj.xyz"
   ]
  },
  {
   "cell_type": "code",
   "execution_count": 4,
   "id": "dc5a8f1b-b346-4258-96ae-ee7a7c3a7c44",
   "metadata": {},
   "outputs": [],
   "source": [
    "for frame in range(traj.n_frames):\n",
    "    atomic_coordinates = traj.xyz[frame]"
   ]
  },
  {
   "cell_type": "code",
   "execution_count": 5,
   "id": "d470f876-7729-4bd3-9413-c905ab146cdc",
   "metadata": {},
   "outputs": [],
   "source": [
    "frame2 = traj.xyz[0]"
   ]
  },
  {
   "cell_type": "code",
   "execution_count": 34,
   "id": "5224959e-a3b7-4b6f-91ea-cdd924a75025",
   "metadata": {},
   "outputs": [],
   "source": [
    "frame5 = traj.xyz[1, carbon_atoms, :]"
   ]
  },
  {
   "cell_type": "code",
   "execution_count": 6,
   "id": "3059242a-f1cc-480f-8662-72a605aa804b",
   "metadata": {},
   "outputs": [],
   "source": [
    "carbon_atoms = traj.topology.select(\"element == 'C'\")"
   ]
  },
  {
   "cell_type": "code",
   "execution_count": 7,
   "id": "6e9a22fb-f023-40db-ac75-cb62283710da",
   "metadata": {},
   "outputs": [],
   "source": [
    "frame1 = traj.xyz[0, carbon_atoms, :]"
   ]
  },
  {
   "cell_type": "code",
   "execution_count": 8,
   "id": "d0ee26e0-5eca-4701-800d-3041632bf378",
   "metadata": {},
   "outputs": [
    {
     "name": "stdout",
     "output_type": "stream",
     "text": [
      "Number of rows: 60\n"
     ]
    }
   ],
   "source": [
    "num_rows = np.size(frame1, axis=0)\n",
    "print(f\"Number of rows: {num_rows}\")"
   ]
  },
  {
   "cell_type": "code",
   "execution_count": 9,
   "id": "6f13abc1-a620-4eac-b534-dda2470544da",
   "metadata": {},
   "outputs": [
    {
     "name": "stdout",
     "output_type": "stream",
     "text": [
      "Number of rows: 193\n"
     ]
    }
   ],
   "source": [
    "num_rows = np.size(frame2, axis=0)\n",
    "print(f\"Number of rows: {num_rows}\")"
   ]
  },
  {
   "cell_type": "code",
   "execution_count": 24,
   "id": "90849254-db83-4d0b-ad97-efa4a7acde63",
   "metadata": {},
   "outputs": [],
   "source": [
    "frame3 = traj.xyz[1642600, carbon_atoms, :]\n",
    "frame4 = traj.xyz[1642600]"
   ]
  },
  {
   "cell_type": "code",
   "execution_count": 41,
   "id": "a08dab0c-291b-444e-9d63-548fdf680e1a",
   "metadata": {},
   "outputs": [],
   "source": [
    "rips_complex = gudhi.RipsComplex(points=frame3)"
   ]
  },
  {
   "cell_type": "code",
   "execution_count": 42,
   "id": "3891f854-9e82-48d4-a84c-c2813fce0ef6",
   "metadata": {},
   "outputs": [],
   "source": [
    "simplex_tree = rips_complex.create_simplex_tree(max_dimension=3)"
   ]
  },
  {
   "cell_type": "code",
   "execution_count": 43,
   "id": "5b590c85-6e73-4ea3-a7a5-7bdcc0f4c63b",
   "metadata": {},
   "outputs": [],
   "source": [
    "persistence = simplex_tree.persistence()"
   ]
  },
  {
   "cell_type": "code",
   "execution_count": 20,
   "id": "13a3b028-8254-4d07-a3ef-871685ec6e01",
   "metadata": {},
   "outputs": [],
   "source": [
    "alpha_complex = {tuple(sorted(simplex)) : radius for simplex, radius in simplex_tree.get_filtration()}\n",
    "boundary_matrix = {simplex : set(itertools.combinations(simplex, len(simplex)-1))-{tuple()} for simplex in alpha_complex}\n",
    "\n",
    "R = { k : v for k,v in boundary_matrix.items()}\n",
    "V = { k : {k} for k in boundary_matrix}\n",
    "lowinv = {} # lowinv[i]=index of column with the lowest 1 at i\n",
    "order_function = lambda s: (alpha_complex[s], s)\n",
    "for s in sorted(R, key=order_function):\n",
    "    t = lowinv.get(max(R[s], key=order_function),-1) if len(R[s])!=0 else -1\n",
    "    while t!=-1:\n",
    "        R[s] = R[t]^R[s] # symmetric difference of t-th and s-th columns\n",
    "        V[s] = V[t]^V[s]\n",
    "        t = lowinv.get(max(R[s], key=order_function),-1) if len(R[s])!=0 else -1\n",
    "    if len(R[s])!=0:\n",
    "        lowinv[max(R[s], key=order_function)] = s\n",
    "\n",
    "loops = [bar for bar in lowinv.items() if len(bar[0])==2]\n",
    "longest_loop = max(loops, key=lambda bar: alpha_complex[bar[1]]-alpha_complex[bar[0]])\n",
    "representative_1 = R[longest_loop[1]]\n",
    "representative_2 = V[longest_loop[0]]\n",
    "#for edge in representative_1:\n",
    "    #plt.plot( *zip(frame1[edge[0]], frame1[edge[1]]), '-', color='blue', alpha=.6 )\n",
    "#for edge in representative_2:\n",
    " #   plt.plot( *zip(frame1[edge[0]], frame1[edge[1]]), '--', color='red', alpha=.6 )\n",
    "#plt.plot(*zip(*frame1),'o')\n",
    "#plt.show()"
   ]
  },
  {
   "cell_type": "code",
   "execution_count": 19,
   "id": "38b32c15-d215-4a3e-a962-7e2c94a3dd94",
   "metadata": {},
   "outputs": [
    {
     "name": "stdout",
     "output_type": "stream",
     "text": [
      "{(26, 27), (25, 30), (42, 46), (36, 37), (37, 42), (27, 46), (30, 36), (25, 26)}\n",
      "{(37, 42), (45, 46), (27, 46), (44, 45), (26, 27), (24, 26), (31, 36), (42, 44), (24, 25), (30, 31), (25, 30), (36, 37)}\n"
     ]
    }
   ],
   "source": [
    "print(representative_1)\n",
    "print(representative_2)"
   ]
  },
  {
   "cell_type": "code",
   "execution_count": 42,
   "id": "5186127c-9c81-4a36-af08-532fb9228e39",
   "metadata": {},
   "outputs": [
    {
     "data": {
      "text/plain": [
       "120"
      ]
     },
     "execution_count": 42,
     "metadata": {},
     "output_type": "execute_result"
    }
   ],
   "source": [
    "carbon_atoms[37]"
   ]
  },
  {
   "cell_type": "code",
   "execution_count": 44,
   "id": "d2980db0-3339-4a43-8c25-e68b25113a5e",
   "metadata": {},
   "outputs": [
    {
     "data": {
      "image/png": "[encoded data removed]",
      "text/plain": [
       "<Figure size 640x480 with 1 Axes>"
      ]
     },
     "metadata": {},
     "output_type": "display_data"
    }
   ],
   "source": [
    "import matplotlib.pyplot as plt\n",
    "gudhi.plot_persistence_diagram(persistence)\n",
    "plot_filename = f'diagram frame1642601'\n",
    "plt.savefig(plot_filename, bbox_inches='tight',dpi=600)"
   ]
  },
  {
   "cell_type": "markdown",
   "id": "993640ef-688e-454e-a04c-aefb75bd49c9",
   "metadata": {},
   "source": [
    "gudhi.plot_persistence_barcode(persistence)"
   ]
  },
  {
   "cell_type": "code",
   "execution_count": 45,
   "id": "433b8309-07e3-4303-ae15-da321cec5681",
   "metadata": {},
   "outputs": [
    {
     "data": {
      "text/plain": [
       "[(2, (0.5304501285961422, 0.5678649646509779)),\n",
       " (1, (0.40241580221398454, 0.4914595951168633)),\n",
       " (1, (0.39804258888197697, 0.48552120575566327)),\n",
       " (1, (0.4049639515524542, 0.4784307173055916)),\n",
       " (1, (0.41383397006256345, 0.4801002382433863)),\n",
       " (1, (0.44720422692470496, 0.46649776049012825)),\n",
       " (0, (0.0, inf)),\n",
       " (0, (0.0, 0.25844251566381743)),\n",
       " (0, (0.0, 0.2562784339795375)),\n",
       " (0, (0.0, 0.25359283684545153)),\n",
       " (0, (0.0, 0.253148149057761)),\n",
       " (0, (0.0, 0.25000118918912256)),\n",
       " (0, (0.0, 0.24918884671556993)),\n",
       " (0, (0.0, 0.24846124107501635)),\n",
       " (0, (0.0, 0.24753518218101278)),\n",
       " (0, (0.0, 0.2406409133924844)),\n",
       " (0, (0.0, 0.16363489270656223)),\n",
       " (0, (0.0, 0.159641817700669)),\n",
       " (0, (0.0, 0.15949909916539565)),\n",
       " (0, (0.0, 0.15759391418502794)),\n",
       " (0, (0.0, 0.1575508006829802)),\n",
       " (0, (0.0, 0.15726810003560512)),\n",
       " (0, (0.0, 0.15720320046102676)),\n",
       " (0, (0.0, 0.15616418646908634)),\n",
       " (0, (0.0, 0.15609570296816916)),\n",
       " (0, (0.0, 0.155994322348912)),\n",
       " (0, (0.0, 0.15594254974258015)),\n",
       " (0, (0.0, 0.15579868938155306)),\n",
       " (0, (0.0, 0.1556301045479973)),\n",
       " (0, (0.0, 0.15509174701514383)),\n",
       " (0, (0.0, 0.15508616802243522)),\n",
       " (0, (0.0, 0.1547635920878225)),\n",
       " (0, (0.0, 0.15467134997922727)),\n",
       " (0, (0.0, 0.15456005708426596)),\n",
       " (0, (0.0, 0.154331172972513)),\n",
       " (0, (0.0, 0.1542294678486159)),\n",
       " (0, (0.0, 0.1541934171937545)),\n",
       " (0, (0.0, 0.15417742672943682)),\n",
       " (0, (0.0, 0.15414065877261796)),\n",
       " (0, (0.0, 0.15408315928736344)),\n",
       " (0, (0.0, 0.15401629184634313)),\n",
       " (0, (0.0, 0.1539575212043717)),\n",
       " (0, (0.0, 0.15382386701771564)),\n",
       " (0, (0.0, 0.1537275085033232)),\n",
       " (0, (0.0, 0.15369996815566825)),\n",
       " (0, (0.0, 0.15330877540783772)),\n",
       " (0, (0.0, 0.15324285724516115)),\n",
       " (0, (0.0, 0.15316878432666775)),\n",
       " (0, (0.0, 0.15310858092510868)),\n",
       " (0, (0.0, 0.15308642383385726)),\n",
       " (0, (0.0, 0.1530692404849736)),\n",
       " (0, (0.0, 0.1530027743784718)),\n",
       " (0, (0.0, 0.1529417168931727)),\n",
       " (0, (0.0, 0.1528577905006763)),\n",
       " (0, (0.0, 0.1527892351934641)),\n",
       " (0, (0.0, 0.15272288685701968)),\n",
       " (0, (0.0, 0.1525403470999066)),\n",
       " (0, (0.0, 0.1522647847665469)),\n",
       " (0, (0.0, 0.15215359492787606)),\n",
       " (0, (0.0, 0.1519475306639498)),\n",
       " (0, (0.0, 0.15151806156562428)),\n",
       " (0, (0.0, 0.15128527621168966)),\n",
       " (0, (0.0, 0.15127733963085216)),\n",
       " (0, (0.0, 0.15107314532050828)),\n",
       " (0, (0.0, 0.14945919292311002)),\n",
       " (0, (0.0, 0.14931735243477143))]"
      ]
     },
     "execution_count": 45,
     "metadata": {},
     "output_type": "execute_result"
    }
   ],
   "source": [
    "persistence"
   ]
  },
  {
   "cell_type": "code",
   "execution_count": 46,
   "id": "6c6f35de-48b4-42ec-87c0-40199ce7b234",
   "metadata": {},
   "outputs": [
    {
     "name": "stdout",
     "output_type": "stream",
     "text": [
      "Simplices contributing to birth at time 0 : [[0], [1], [2], [3], [4], [5], [6], [7], [8], [9], [10], [11], [12], [13], [14], [15], [16], [17], [18], [19], [20], [21], [22], [23], [24], [25], [26], [27], [28], [29], [30], [31], [32], [33], [34], [35], [36], [37], [38], [39], [40], [41], [42], [43], [44], [45], [46], [47], [48], [49], [50], [51], [52], [53], [54], [55], [56], [57], [58], [59]]\n",
      "Simplices contributing to death at time 0.25844251566381743 : [[37, 42]]\n"
     ]
    }
   ],
   "source": [
    "# Specify the birth and death times of interest\n",
    "birth_time = 0\n",
    "death_time = 0.25844251566381743\n",
    "\n",
    "# Find simplices contributing to the birth\n",
    "birth_simplices = [simplex for simplex, time in simplex_tree.get_simplices() if time == birth_time]\n",
    "\n",
    "# Find simplices contributing to the death\n",
    "death_simplices = [simplex for simplex, time in simplex_tree.get_simplices() if time == death_time]\n",
    "print(\"Simplices contributing to birth at time\", birth_time, \":\", birth_simplices)\n",
    "print(\"Simplices contributing to death at time\", death_time, \":\", death_simplices)"
   ]
  },
  {
   "cell_type": "code",
   "execution_count": 52,
   "id": "ce5650b2-f4a2-4f03-8dc6-271f66704719",
   "metadata": {},
   "outputs": [
    {
     "name": "stdout",
     "output_type": "stream",
     "text": [
      "The index number of the specific carbon atom in the original array is: 120\n"
     ]
    }
   ],
   "source": [
    "import numpy as np\n",
    "\n",
    "# Assuming you have a NumPy array of 193 atoms called all_atoms_array\n",
    "all_atoms_array = np.array(traj.xyz[1642600])  # Your actual array goes here\n",
    "\n",
    "# Assuming you have a NumPy array of 60 carbon atoms called carbon_atoms_array\n",
    "carbon_atoms_array = np.array(traj.xyz[1642600, carbon_atoms, :])  # Your actual array goes here\n",
    "\n",
    "# Index number of the specific carbon atom in the carbon_atoms_array\n",
    "specific_carbon_index_in_new_array = 37  # Replace with the actual index you have\n",
    "\n",
    "# Get the label or identifier of the specific carbon atom in the new array\n",
    "specific_carbon_atom_label = carbon_atoms_array[specific_carbon_index_in_new_array]\n",
    "\n",
    "# Find the index of this atom in the original array\n",
    "index_in_original_array = np.where(all_atoms_array == specific_carbon_atom_label)[0][0]\n",
    "\n",
    "print(f\"The index number of the specific carbon atom in the original array is: {index_in_original_array}\")"
   ]
  },
  {
   "cell_type": "markdown",
   "id": "cac20343-11f8-4501-895e-3c96fd41026c",
   "metadata": {},
   "source": [
    "first_frame = traj[0]\n",
    "first_frame.save(\"first_frame_output.pdb\")"
   ]
  },
  {
   "cell_type": "code",
   "execution_count": null,
   "id": "d388a2dc-84fe-4634-aded-43fbcb25ee47",
   "metadata": {},
   "outputs": [],
   "source": [
    "b_sheet = traj[1642600]\n",
    "b_sheet.save(\"bsheet_frame_output.pdb\")"
   ]
  },
  {
   "cell_type": "code",
   "execution_count": 3,
   "id": "4eea2dd4-7889-4baa-b2f6-9f61d3d75929",
   "metadata": {},
   "outputs": [],
   "source": [
    "frame = traj[0:100]\n",
    "frame.save(\"normal100frame.pdb\")"
   ]
  },
  {
   "cell_type": "code",
   "execution_count": 3,
   "id": "3a30dd5d-641f-44c1-96bf-c555474b974a",
   "metadata": {},
   "outputs": [],
   "source": [
    "frame = traj[30:40]\n",
    "frame.save(\"normal10frame.pdb\")"
   ]
  },
  {
   "cell_type": "code",
   "execution_count": 4,
   "id": "d63fc13b-ec9b-4d14-b86a-20a644c4a2fb",
   "metadata": {},
   "outputs": [],
   "source": [
    "a_helix = traj[1642550:1642650]\n",
    "a_helix.save(\"bhairpin100frame.pdb\")"
   ]
  },
  {
   "cell_type": "code",
   "execution_count": 4,
   "id": "d9532e1b-dbaf-46d9-a73b-42f6670a6507",
   "metadata": {},
   "outputs": [],
   "source": [
    "a_helix = traj[1642610:1642620]\n",
    "a_helix.save(\"bhairpin10frame.pdb\")"
   ]
  },
  {
   "cell_type": "code",
   "execution_count": 5,
   "id": "8697e9f1-5207-46fa-b263-e69de616cc79",
   "metadata": {},
   "outputs": [],
   "source": [
    "traj5 = md.load('normal100frame.pdb')\n",
    "traj5 = md.Trajectory.superpose(traj5, traj5[0], frame=0, atom_indices=None, ref_atom_indices=None, parallel=True)"
   ]
  },
  {
   "cell_type": "code",
   "execution_count": 11,
   "id": "b1fa5ae8-19c7-463b-9e71-33c2bbb6f0f4",
   "metadata": {},
   "outputs": [],
   "source": [
    "traj6 = md.load('bhairpin100frame.pdb')\n",
    "traj6 = md.Trajectory.superpose(traj6, traj6[0], frame=0, atom_indices=None, ref_atom_indices=None, parallel=True)"
   ]
  },
  {
   "cell_type": "code",
   "execution_count": null,
   "id": "53be3009-ef01-4fa0-8be2-3873dfdd8418",
   "metadata": {},
   "outputs": [],
   "source": []
  }
 ],
 "metadata": {
  "kernelspec": {
   "display_name": "Python 3 (ipykernel)",
   "language": "python",
   "name": "python3"
  },
  "language_info": {
   "codemirror_mode": {
    "name": "ipython",
    "version": 3
   },
   "file_extension": ".py",
   "mimetype": "text/x-python",
   "name": "python",
   "nbconvert_exporter": "python",
   "pygments_lexer": "ipython3",
   "version": "3.10.0"
  }
 },
 "nbformat": 4,
 "nbformat_minor": 5
}

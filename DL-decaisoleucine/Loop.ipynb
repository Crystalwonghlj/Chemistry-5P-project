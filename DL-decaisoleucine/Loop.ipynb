{
 "cells": [
  {
   "cell_type": "code",
   "execution_count": 1,
   "id": "951798e1-9b5d-4f3c-ab64-72780d310531",
   "metadata": {},
   "outputs": [],
   "source": [
    "import numpy as np\n",
    "import gudhi\n",
    "import mdtraj as md\n",
    "import seaborn as sns\n",
    "import itertools\n",
    "import matplotlib as mpl\n",
    "import matplotlib.pyplot as plt"
   ]
  },
  {
   "cell_type": "code",
   "execution_count": 2,
   "id": "b840b553-15db-4524-9cc1-612a9cf5a446",
   "metadata": {},
   "outputs": [],
   "source": [
    "traj = md.load_dcd('deca56D_prd.dcd', top='deca56D_clean.pdb')\n",
    "traj = md.Trajectory.superpose(traj, traj[0], frame=0, atom_indices=None, ref_atom_indices=None, parallel=True)"
   ]
  },
  {
   "cell_type": "code",
   "execution_count": 343,
   "id": "dca8067a-8a93-47d7-ba70-789c0935b295",
   "metadata": {},
   "outputs": [],
   "source": [
    "frame = traj[10000]\n",
    "frame.save(\"10000.pdb\")"
   ]
  },
  {
   "cell_type": "code",
   "execution_count": 3,
   "id": "3059242a-f1cc-480f-8662-72a605aa804b",
   "metadata": {},
   "outputs": [],
   "source": [
    "carbon_atoms = traj.topology.select(\"element == 'C'\")"
   ]
  },
  {
   "cell_type": "code",
   "execution_count": 230,
   "id": "90849254-db83-4d0b-ad97-efa4a7acde63",
   "metadata": {},
   "outputs": [],
   "source": [
    "frame3 = traj.xyz[0, carbon_atoms, :]"
   ]
  },
  {
   "cell_type": "code",
   "execution_count": 242,
   "id": "cf76e4c6-9344-4ee7-9c9c-3df07dabae98",
   "metadata": {},
   "outputs": [],
   "source": [
    "frame3 = traj.xyz[500, carbon_atoms, :]"
   ]
  },
  {
   "cell_type": "code",
   "execution_count": 252,
   "id": "da87be4d-f4e4-4045-9593-e510fc6f98cc",
   "metadata": {},
   "outputs": [],
   "source": [
    "frame3 = traj.xyz[3000, carbon_atoms, :]"
   ]
  },
  {
   "cell_type": "code",
   "execution_count": 262,
   "id": "9bced998-0660-4292-95cd-c2e84eb407a2",
   "metadata": {},
   "outputs": [],
   "source": [
    "frame3 = traj.xyz[10000, carbon_atoms, :]"
   ]
  },
  {
   "cell_type": "code",
   "execution_count": 271,
   "id": "dce2fe88-2453-4343-886f-dd57fca890b0",
   "metadata": {},
   "outputs": [],
   "source": [
    "frame3 = traj.xyz[60000, carbon_atoms, :]"
   ]
  },
  {
   "cell_type": "code",
   "execution_count": 280,
   "id": "864fcc21-a403-4220-82d3-70cad5beebcf",
   "metadata": {},
   "outputs": [],
   "source": [
    "frame3 = traj.xyz[80000, carbon_atoms, :]"
   ]
  },
  {
   "cell_type": "code",
   "execution_count": 289,
   "id": "0e095b72-7f0d-4ed6-8ec3-3fa90f443bef",
   "metadata": {},
   "outputs": [],
   "source": [
    "frame3 = traj.xyz[160000, carbon_atoms, :]"
   ]
  },
  {
   "cell_type": "code",
   "execution_count": 298,
   "id": "b807161b-ea6e-40f9-8a0a-9e5b1469e35f",
   "metadata": {},
   "outputs": [],
   "source": [
    "frame3 = traj.xyz[240000, carbon_atoms, :]"
   ]
  },
  {
   "cell_type": "code",
   "execution_count": 307,
   "id": "7cf9411e-96f9-4c4d-a2da-32a8a9846172",
   "metadata": {},
   "outputs": [],
   "source": [
    "frame3 = traj.xyz[380000, carbon_atoms, :]"
   ]
  },
  {
   "cell_type": "code",
   "execution_count": 316,
   "id": "4ea1fa94-c217-4347-aae6-5e3da4793db9",
   "metadata": {},
   "outputs": [],
   "source": [
    "frame3 = traj.xyz[550000, carbon_atoms, :]"
   ]
  },
  {
   "cell_type": "code",
   "execution_count": 325,
   "id": "530fba22-0ec6-4290-8cd2-e093610b0d08",
   "metadata": {},
   "outputs": [],
   "source": [
    "frame3 = traj.xyz[620000, carbon_atoms, :]"
   ]
  },
  {
   "cell_type": "code",
   "execution_count": 253,
   "id": "d0ee26e0-5eca-4701-800d-3041632bf378",
   "metadata": {},
   "outputs": [
    {
     "name": "stdout",
     "output_type": "stream",
     "text": [
      "Number of rows: 60\n"
     ]
    }
   ],
   "source": [
    "num_rows = np.size(frame3, axis=0)\n",
    "print(f\"Number of rows: {num_rows}\")"
   ]
  },
  {
   "cell_type": "code",
   "execution_count": 326,
   "id": "a08dab0c-291b-444e-9d63-548fdf680e1a",
   "metadata": {},
   "outputs": [],
   "source": [
    "rips_complex = gudhi.RipsComplex(points=frame3)"
   ]
  },
  {
   "cell_type": "code",
   "execution_count": 327,
   "id": "3891f854-9e82-48d4-a84c-c2813fce0ef6",
   "metadata": {},
   "outputs": [],
   "source": [
    "simplex_tree = rips_complex.create_simplex_tree(max_dimension=3)"
   ]
  },
  {
   "cell_type": "code",
   "execution_count": 328,
   "id": "5b590c85-6e73-4ea3-a7a5-7bdcc0f4c63b",
   "metadata": {},
   "outputs": [],
   "source": [
    "persistence = simplex_tree.persistence()"
   ]
  },
  {
   "cell_type": "code",
   "execution_count": 329,
   "id": "13a3b028-8254-4d07-a3ef-871685ec6e01",
   "metadata": {},
   "outputs": [],
   "source": [
    "alpha_complex = {tuple(sorted(simplex)) : radius for simplex, radius in simplex_tree.get_filtration()}\n",
    "boundary_matrix = {simplex : set(itertools.combinations(simplex, len(simplex)-1))-{tuple()} for simplex in alpha_complex}\n",
    "\n",
    "R = { k : v for k,v in boundary_matrix.items()}\n",
    "V = { k : {k} for k in boundary_matrix}\n",
    "lowinv = {} # lowinv[i]=index of column with the lowest 1 at i\n",
    "order_function = lambda s: (alpha_complex[s], s)\n",
    "for s in sorted(R, key=order_function):\n",
    "    t = lowinv.get(max(R[s], key=order_function),-1) if len(R[s])!=0 else -1\n",
    "    while t!=-1:\n",
    "        R[s] = R[t]^R[s] # symmetric difference of t-th and s-th columns\n",
    "        V[s] = V[t]^V[s]\n",
    "        t = lowinv.get(max(R[s], key=order_function),-1) if len(R[s])!=0 else -1\n",
    "    if len(R[s])!=0:\n",
    "        lowinv[max(R[s], key=order_function)] = s\n",
    "\n",
    "loops = [bar for bar in lowinv.items() if len(bar[0])==2]\n",
    "longest_loop = max(loops, key=lambda bar: alpha_complex[bar[1]]-alpha_complex[bar[0]])\n",
    "representative_1 = R[longest_loop[1]]\n",
    "representative_2 = V[longest_loop[0]]"
   ]
  },
  {
   "cell_type": "code",
   "execution_count": 330,
   "id": "38b32c15-d215-4a3e-a962-7e2c94a3dd94",
   "metadata": {},
   "outputs": [
    {
     "name": "stdout",
     "output_type": "stream",
     "text": [
      "{(36, 39), (31, 32), (13, 19), (6, 7), (24, 25), (19, 24), (13, 14), (13, 17), (38, 39), (6, 11), (14, 17), (32, 33), (7, 13), (25, 31), (36, 38), (11, 33)}\n"
     ]
    }
   ],
   "source": [
    "print(representative_1)\n",
    "#print(representative_2)"
   ]
  },
  {
   "cell_type": "code",
   "execution_count": 350,
   "id": "5186127c-9c81-4a36-af08-532fb9228e39",
   "metadata": {},
   "outputs": [
    {
     "data": {
      "text/plain": [
       "146"
      ]
     },
     "execution_count": 350,
     "metadata": {},
     "output_type": "execute_result"
    }
   ],
   "source": [
    "carbon_atoms[46]"
   ]
  },
  {
   "cell_type": "markdown",
   "id": "224d7a90-3541-4b3b-a774-ee9b4f68453a",
   "metadata": {},
   "source": [
    "list = []"
   ]
  },
  {
   "cell_type": "code",
   "execution_count": 332,
   "id": "53be3009-ef01-4fa0-8be2-3873dfdd8418",
   "metadata": {},
   "outputs": [],
   "source": [
    "list.append(representative_1)"
   ]
  },
  {
   "cell_type": "code",
   "execution_count": 333,
   "id": "98ce0448-6a8d-4049-8a1e-a5c2f242de4b",
   "metadata": {},
   "outputs": [
    {
     "data": {
      "text/plain": [
       "[{(25, 26),\n",
       "  (25, 30),\n",
       "  (26, 27),\n",
       "  (27, 46),\n",
       "  (30, 36),\n",
       "  (36, 37),\n",
       "  (37, 42),\n",
       "  (42, 46)},\n",
       " {(42, 43), (42, 47), (43, 49), (47, 58), (49, 57), (57, 58)},\n",
       " {(25, 27),\n",
       "  (25, 30),\n",
       "  (27, 46),\n",
       "  (30, 31),\n",
       "  (31, 37),\n",
       "  (37, 42),\n",
       "  (42, 45),\n",
       "  (45, 46)},\n",
       " {(24, 25), (24, 28), (25, 31), (28, 46), (31, 37), (37, 42), (42, 46)},\n",
       " {(0, 1),\n",
       "  (0, 2),\n",
       "  (1, 2),\n",
       "  (1, 6),\n",
       "  (1, 7),\n",
       "  (6, 9),\n",
       "  (7, 12),\n",
       "  (9, 10),\n",
       "  (10, 57),\n",
       "  (12, 13),\n",
       "  (13, 19),\n",
       "  (19, 24),\n",
       "  (24, 25),\n",
       "  (24, 26),\n",
       "  (24, 28),\n",
       "  (25, 31),\n",
       "  (26, 28),\n",
       "  (31, 36),\n",
       "  (36, 37),\n",
       "  (37, 42),\n",
       "  (42, 43),\n",
       "  (42, 45),\n",
       "  (42, 47),\n",
       "  (43, 48),\n",
       "  (45, 46),\n",
       "  (46, 47),\n",
       "  (48, 49),\n",
       "  (49, 55),\n",
       "  (54, 55),\n",
       "  (54, 56),\n",
       "  (56, 57)},\n",
       " {(42, 43), (42, 47), (43, 49), (47, 58), (49, 54), (54, 57), (57, 58)},\n",
       " {(25, 27),\n",
       "  (25, 30),\n",
       "  (27, 46),\n",
       "  (30, 31),\n",
       "  (31, 37),\n",
       "  (37, 42),\n",
       "  (42, 45),\n",
       "  (45, 46)},\n",
       " {(25, 27), (25, 31), (27, 45), (31, 37), (37, 42), (42, 45)},\n",
       " {(13, 17),\n",
       "  (13, 19),\n",
       "  (17, 47),\n",
       "  (19, 24),\n",
       "  (24, 25),\n",
       "  (25, 30),\n",
       "  (30, 31),\n",
       "  (31, 36),\n",
       "  (36, 41),\n",
       "  (37, 41),\n",
       "  (37, 42),\n",
       "  (42, 47)},\n",
       " {(1, 2),\n",
       "  (1, 5),\n",
       "  (1, 6),\n",
       "  (1, 7),\n",
       "  (2, 3),\n",
       "  (3, 5),\n",
       "  (6, 7),\n",
       "  (7, 12),\n",
       "  (7, 13),\n",
       "  (12, 15),\n",
       "  (13, 18),\n",
       "  (15, 16),\n",
       "  (16, 34),\n",
       "  (18, 19),\n",
       "  (19, 25),\n",
       "  (25, 30),\n",
       "  (30, 34)},\n",
       " {(6, 7),\n",
       "  (6, 11),\n",
       "  (7, 13),\n",
       "  (11, 33),\n",
       "  (13, 14),\n",
       "  (13, 17),\n",
       "  (13, 19),\n",
       "  (14, 17),\n",
       "  (19, 24),\n",
       "  (24, 25),\n",
       "  (25, 31),\n",
       "  (31, 32),\n",
       "  (32, 33),\n",
       "  (36, 38),\n",
       "  (36, 39),\n",
       "  (38, 39)}]"
      ]
     },
     "execution_count": 333,
     "metadata": {},
     "output_type": "execute_result"
    }
   ],
   "source": [
    "list"
   ]
  },
  {
   "cell_type": "markdown",
   "id": "0c65ba23-8515-47d3-b1a4-48e3f52b3e2c",
   "metadata": {},
   "source": [
    "#traj[1642600] b-hairpin\n",
    "#index 139 or index 169 or index 29 or index 143 or index 141 or index 137 or index 118 or index 120 or index 131 or index 23 or index 25 or index 48 or index 51"
   ]
  },
  {
   "cell_type": "markdown",
   "id": "d7773616-c500-4191-84e1-37c303e8ae3d",
   "metadata": {},
   "source": [
    "#traj[760000] b-hairpin\n",
    "#index 99 or index 105 or index 82 or index 80 or index 63 or index 61 or index 44 or index 42 or index 36 or index 25"
   ]
  },
  {
   "cell_type": "markdown",
   "id": "bf6266d0-a7dc-409f-976b-a1747608a063",
   "metadata": {},
   "source": [
    "#traj[1300000] b-hairpin\n",
    "#index 44 or index 46 or index 48 or index 63 or index 80 or index 82 or index 101 or index 118 or index 122 or index 131 or index 165"
   ]
  },
  {
   "cell_type": "markdown",
   "id": "48aa734e-37f7-4892-918c-2406e90dd6cd",
   "metadata": {},
   "source": [
    "#traj[1642623] b-hairpin\n",
    "#index 23 or index 25 or index 27 or index 29 or index 44 or index 46 or index 51 or index 99 or index 101 or index 103 or index 105 or index 118 or index 120 or index 137 or index 139 or index 156 or index 160 or index 169"
   ]
  },
  {
   "cell_type": "markdown",
   "id": "95103ca0-5981-4f1e-b260-5c3cf17dcda9",
   "metadata": {},
   "source": [
    "#traj[500] unfolded\n",
    "#index 137 or index 139 or index 150 or index 158 or index 182 or index 185"
   ]
  },
  {
   "cell_type": "markdown",
   "id": "cd060696-f313-44d6-aa74-ae20483fe060",
   "metadata": {},
   "source": [
    "#traj[10000] unfolded\n",
    "#index 80 or index 82 or index 90 or index 101 or index 120 or index 137 or index 146"
   ]
  },
  {
   "cell_type": "code",
   "execution_count": null,
   "id": "167add4c-014c-4a84-9982-75ce83d7703c",
   "metadata": {},
   "outputs": [],
   "source": []
  }
 ],
 "metadata": {
  "kernelspec": {
   "display_name": "Python 3 (ipykernel)",
   "language": "python",
   "name": "python3"
  },
  "language_info": {
   "codemirror_mode": {
    "name": "ipython",
    "version": 3
   },
   "file_extension": ".py",
   "mimetype": "text/x-python",
   "name": "python",
   "nbconvert_exporter": "python",
   "pygments_lexer": "ipython3",
   "version": "3.10.0"
  }
 },
 "nbformat": 4,
 "nbformat_minor": 5
}
